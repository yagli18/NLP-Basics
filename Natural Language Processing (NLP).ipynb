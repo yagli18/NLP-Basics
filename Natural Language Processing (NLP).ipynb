{
 "cells": [
  {
   "cell_type": "markdown",
   "id": "3ab133c8",
   "metadata": {},
   "source": [
    "# Natural Language Processing (NLP)"
   ]
  },
  {
   "cell_type": "code",
   "execution_count": 1,
   "id": "ae8cf68e",
   "metadata": {},
   "outputs": [],
   "source": [
    "import pandas as pd \n",
    "import numpy as np \n",
    "import scipy as sp"
   ]
  },
  {
   "cell_type": "code",
   "execution_count": 2,
   "id": "db7301d2",
   "metadata": {},
   "outputs": [],
   "source": [
    "#!pip install nltk #Natural Language tool kit"
   ]
  },
  {
   "cell_type": "code",
   "execution_count": 3,
   "id": "7ad0a514",
   "metadata": {},
   "outputs": [],
   "source": [
    "import nltk"
   ]
  },
  {
   "cell_type": "code",
   "execution_count": 4,
   "id": "4f18e74a",
   "metadata": {},
   "outputs": [],
   "source": [
    "#nltk.download(\"punkt\")"
   ]
  },
  {
   "cell_type": "code",
   "execution_count": 5,
   "id": "0ef788c3",
   "metadata": {},
   "outputs": [],
   "source": [
    "from nltk.tokenize import sent_tokenize # paragraftan cümleleri ayırıp liste haline getirir"
   ]
  },
  {
   "cell_type": "code",
   "execution_count": 6,
   "id": "1c1c91aa",
   "metadata": {},
   "outputs": [
    {
     "name": "stdout",
     "output_type": "stream",
     "text": [
      "['Welcome raders .', 'I hope you find it interesting .', 'Please do reply.']\n"
     ]
    }
   ],
   "source": [
    "text=\"Welcome raders . I hope you find it interesting . Please do reply.\"\n",
    "print(sent_tokenize(text))"
   ]
  },
  {
   "cell_type": "code",
   "execution_count": 7,
   "id": "e6dca13b",
   "metadata": {},
   "outputs": [
    {
     "name": "stdout",
     "output_type": "stream",
     "text": [
      "['PierreVinken', ',', '59', 'years', 'old', ',', 'wiil', 'join', 'as', 'a', 'non', 'excutive', 'director', 'on', 'Nov', '29', '.']\n"
     ]
    }
   ],
   "source": [
    "# word tokenization \n",
    "from nltk.tokenize import word_tokenize\n",
    "text =word_tokenize(\"PierreVinken , 59 years old , wiil join as a non excutive director on Nov 29 .\")\n",
    "print(text)"
   ]
  },
  {
   "cell_type": "code",
   "execution_count": 8,
   "id": "7e529d5a",
   "metadata": {},
   "outputs": [
    {
     "data": {
      "text/plain": [
       "['Do',\n",
       " \"n't\",\n",
       " 'Have',\n",
       " 'a',\n",
       " 'nice',\n",
       " 'day.',\n",
       " 'I',\n",
       " ',',\n",
       " 'hope',\n",
       " 'you',\n",
       " 'find',\n",
       " 'the',\n",
       " 'book',\n",
       " 'interesting']"
      ]
     },
     "execution_count": 8,
     "metadata": {},
     "output_type": "execute_result"
    }
   ],
   "source": [
    "from nltk.tokenize import TreebankWordTokenizer\n",
    "tokenizer=TreebankWordTokenizer()\n",
    "tokenizer.tokenize(\"Don't Have a nice day. I , hope you find the book interesting\")"
   ]
  },
  {
   "cell_type": "markdown",
   "id": "05c00bb9",
   "metadata": {},
   "source": [
    "# Stemmer and Lemmatizer"
   ]
  },
  {
   "cell_type": "markdown",
   "id": "435a5257",
   "metadata": {},
   "source": [
    "* stemmer:kelimenin eklerini atar\n",
    "  * porter\n",
    "  * lancaster\n",
    "  * regexp\n",
    "  * snowball\n",
    "* Lemmatizer : kök bulur"
   ]
  },
  {
   "cell_type": "markdown",
   "id": "1ebd9dcd",
   "metadata": {},
   "source": [
    "kökü aynı olan aynı anlam vermek isteyen kelimeleri farklı algılanmasın diye"
   ]
  },
  {
   "cell_type": "markdown",
   "id": "0041256a",
   "metadata": {},
   "source": [
    "### PorterStemmer\n",
    "\n",
    "PorterStemmer=kök bulur"
   ]
  },
  {
   "cell_type": "code",
   "execution_count": 9,
   "id": "d64c34ab",
   "metadata": {},
   "outputs": [
    {
     "data": {
      "text/plain": [
       "'happi'"
      ]
     },
     "execution_count": 9,
     "metadata": {},
     "output_type": "execute_result"
    }
   ],
   "source": [
    "from nltk.stem import PorterStemmer\n",
    "stemmmerporter = PorterStemmer()\n",
    "stemmmerporter.stem(\"happiness\")"
   ]
  },
  {
   "cell_type": "markdown",
   "id": "e51563a6",
   "metadata": {},
   "source": [
    "### LancasterStemmer"
   ]
  },
  {
   "cell_type": "code",
   "execution_count": 10,
   "id": "2778b46d",
   "metadata": {},
   "outputs": [
    {
     "data": {
      "text/plain": [
       "'happy'"
      ]
     },
     "execution_count": 10,
     "metadata": {},
     "output_type": "execute_result"
    }
   ],
   "source": [
    "from nltk.stem import LancasterStemmer\n",
    "stemmerlan = LancasterStemmer()\n",
    "stemmerlan.stem(\"happiness\")"
   ]
  },
  {
   "cell_type": "markdown",
   "id": "50a89d19",
   "metadata": {},
   "source": [
    "### RegexpStemmer"
   ]
  },
  {
   "cell_type": "code",
   "execution_count": 11,
   "id": "5fc9c230",
   "metadata": {},
   "outputs": [
    {
     "name": "stdout",
     "output_type": "stream",
     "text": [
      "work\n",
      "happiness\n",
      "pair\n"
     ]
    }
   ],
   "source": [
    "from nltk.stem import RegexpStemmer\n",
    "stemmeregexp = RegexpStemmer(\"ing\")\n",
    "print(stemmeregexp.stem(\"working\"))\n",
    "print(stemmeregexp.stem(\"happiness\"))\n",
    "print(stemmeregexp.stem(\"pairing\"))"
   ]
  },
  {
   "cell_type": "markdown",
   "id": "85127a1f",
   "metadata": {},
   "source": [
    "### Snowball Stemmer"
   ]
  },
  {
   "cell_type": "code",
   "execution_count": 12,
   "id": "f34429f8",
   "metadata": {},
   "outputs": [
    {
     "name": "stdout",
     "output_type": "stream",
     "text": [
      "('arabic', 'danish', 'dutch', 'english', 'finnish', 'french', 'german', 'hungarian', 'italian', 'norwegian', 'porter', 'portuguese', 'romanian', 'russian', 'spanish', 'swedish')\n",
      "comiend\n",
      "manag\n"
     ]
    }
   ],
   "source": [
    "from nltk.stem import SnowballStemmer\n",
    "print(SnowballStemmer.languages)\n",
    "spanishstemmer = SnowballStemmer(\"spanish\")\n",
    "print(spanishstemmer.stem(\"comiende\"))\n",
    "\n",
    "frenchstemmer = SnowballStemmer(\"french\")\n",
    "print(frenchstemmer.stem(\"manager\"))"
   ]
  },
  {
   "cell_type": "markdown",
   "id": "06009850",
   "metadata": {},
   "source": [
    "### Lemmatization"
   ]
  },
  {
   "cell_type": "markdown",
   "id": "5ecc918a",
   "metadata": {},
   "source": [
    "### POS - Part of Speech, isim, fiil, özne, sıfat, zamir, zarf, proposition"
   ]
  },
  {
   "cell_type": "code",
   "execution_count": 13,
   "id": "2c92b40a",
   "metadata": {
    "scrolled": true
   },
   "outputs": [
    {
     "name": "stdout",
     "output_type": "stream",
     "text": [
      "working\n",
      "work\n",
      "work\n"
     ]
    }
   ],
   "source": [
    "# nltk.download('omw-1.4')\n",
    "from nltk.stem import WordNetLemmatizer\n",
    "lemmatizer_output = WordNetLemmatizer()\n",
    "print(lemmatizer_output.lemmatize(\"working\"))\n",
    "\n",
    "# bu kelimenin fiil olduğu gsöylüyoruz verb = v\n",
    "print(lemmatizer_output.lemmatize(\"working\",pos=\"v\"))\n",
    "\n",
    "print(lemmatizer_output.lemmatize(\"works\"))"
   ]
  },
  {
   "cell_type": "markdown",
   "id": "97bed786",
   "metadata": {},
   "source": [
    "#### difference between stemming and lemmatization"
   ]
  },
  {
   "cell_type": "code",
   "execution_count": 14,
   "id": "8de736ec",
   "metadata": {},
   "outputs": [
    {
     "data": {
      "text/plain": [
       "'men'"
      ]
     },
     "execution_count": 14,
     "metadata": {},
     "output_type": "execute_result"
    }
   ],
   "source": [
    "from nltk.stem import PorterStemmer\n",
    "stemmer_output=PorterStemmer()\n",
    "stemmer_output.stem(\"Mens\")"
   ]
  },
  {
   "cell_type": "code",
   "execution_count": 15,
   "id": "59f5c8f7",
   "metadata": {},
   "outputs": [
    {
     "data": {
      "text/plain": [
       "'Mens'"
      ]
     },
     "execution_count": 15,
     "metadata": {},
     "output_type": "execute_result"
    }
   ],
   "source": [
    "from nltk.stem import WordNetLemmatizer\n",
    "lemmatizer_output=WordNetLemmatizer()\n",
    "lemmatizer_output.lemmatize(\"Mens\")"
   ]
  },
  {
   "attachments": {
    "image.png": {
     "image/png": "[encoded data removed]"
    }
   },
   "cell_type": "markdown",
   "id": "c48ffa03",
   "metadata": {},
   "source": [
    "## Part of Speech Tagging and POS Tagger\n",
    "![image.png](attachment:image.png)"
   ]
  },
  {
   "cell_type": "code",
   "execution_count": 16,
   "id": "b72c6357",
   "metadata": {
    "scrolled": true
   },
   "outputs": [
    {
     "data": {
      "text/plain": [
       "[('It', 'PRP'),\n",
       " ('is', 'VBZ'),\n",
       " ('a', 'DT'),\n",
       " ('pleasant', 'JJ'),\n",
       " ('day', 'NN'),\n",
       " ('today', 'NN')]"
      ]
     },
     "execution_count": 16,
     "metadata": {},
     "output_type": "execute_result"
    }
   ],
   "source": [
    "import nltk\n",
    "#nltk.download('averaged_perceptron_tagger')\n",
    "from nltk import word_tokenize\n",
    "text=word_tokenize(\"It is a pleasant day today\")\n",
    "nltk.pos_tag(text)#pos_tagger textteki kelimelerin ,ögelerini yani türünü gösteriyor"
   ]
  },
  {
   "cell_type": "code",
   "execution_count": 17,
   "id": "5a3c4779",
   "metadata": {},
   "outputs": [
    {
     "data": {
      "text/plain": [
       "[('They', 'PRP'),\n",
       " ('buy', 'VBP'),\n",
       " ('the', 'DT'),\n",
       " ('permit', 'NN'),\n",
       " ('in', 'IN'),\n",
       " ('ordeer', 'NN'),\n",
       " ('to', 'TO'),\n",
       " ('be', 'VB'),\n",
       " ('able', 'JJ'),\n",
       " ('to', 'TO'),\n",
       " ('attend', 'VB'),\n",
       " ('the', 'DT'),\n",
       " ('event', 'NN')]"
      ]
     },
     "execution_count": 17,
     "metadata": {},
     "output_type": "execute_result"
    }
   ],
   "source": [
    "text=word_tokenize(\"They buy the permit in ordeer to be able to attend the event\")\n",
    "nltk.pos_tag(text)\n",
    "# cümleyi öğrelerine ayırır word_tokenize, post_tag ise tagler"
   ]
  },
  {
   "cell_type": "markdown",
   "id": "c2232670",
   "metadata": {},
   "source": [
    "Aslında buraya kadar olan kısım 5. dersin son kısımları"
   ]
  },
  {
   "cell_type": "code",
   "execution_count": 18,
   "id": "e245cd46",
   "metadata": {},
   "outputs": [
    {
     "data": {
      "text/plain": [
       "[('Beautiful', 'He is the man'), ('morning', 'He is the man')]"
      ]
     },
     "execution_count": 18,
     "metadata": {},
     "output_type": "execute_result"
    }
   ],
   "source": [
    "import nltk\n",
    "from nltk.tag import DefaultTagger\n",
    "tag = DefaultTagger(\"He is the man\")\n",
    "tag.tag([\"Beautiful\",\"morning\"])"
   ]
  },
  {
   "cell_type": "markdown",
   "id": "d1fd3ffd",
   "metadata": {},
   "source": [
    "### Language conversion & Text formatting & Grammar "
   ]
  },
  {
   "cell_type": "code",
   "execution_count": 19,
   "id": "f59ec64c",
   "metadata": {},
   "outputs": [],
   "source": [
    "# !pip install autocorrect"
   ]
  },
  {
   "cell_type": "code",
   "execution_count": 20,
   "id": "472ca7c6",
   "metadata": {},
   "outputs": [
    {
     "data": {
      "text/plain": [
       "'The'"
      ]
     },
     "execution_count": 20,
     "metadata": {},
     "output_type": "execute_result"
    }
   ],
   "source": [
    "from autocorrect import Speller\n",
    "spell = Speller(\"en\")\n",
    "spell('Tghe')"
   ]
  },
  {
   "cell_type": "markdown",
   "id": "4a517275",
   "metadata": {},
   "source": [
    "### TextBlob\n",
    "* It is a python library for textual data processing. It provides an interface for common natural language processing tasks."
   ]
  },
  {
   "cell_type": "code",
   "execution_count": 21,
   "id": "7deb03f9",
   "metadata": {},
   "outputs": [],
   "source": [
    "# !pip install textblob"
   ]
  },
  {
   "cell_type": "code",
   "execution_count": 22,
   "id": "812353da",
   "metadata": {},
   "outputs": [
    {
     "name": "stdout",
     "output_type": "stream",
     "text": [
      "I have good spelling!\n"
     ]
    }
   ],
   "source": [
    "from textblob import TextBlob\n",
    "b = TextBlob(\"I havv good speling!\")\n",
    "#print(b.detect_language()) # çalışmıyor\n",
    "print(b.correct())"
   ]
  },
  {
   "cell_type": "code",
   "execution_count": 23,
   "id": "3af85fa4",
   "metadata": {},
   "outputs": [
    {
     "data": {
      "text/plain": [
       "[('fallibility', 0.3333333333333333),\n",
       " ('capability', 0.3333333333333333),\n",
       " ('affability', 0.3333333333333333)]"
      ]
     },
     "execution_count": 23,
     "metadata": {},
     "output_type": "execute_result"
    }
   ],
   "source": [
    "from textblob import Word\n",
    "w = Word(\"falability\")\n",
    "w.spellcheck()"
   ]
  },
  {
   "cell_type": "code",
   "execution_count": 24,
   "id": "9af2f1c4",
   "metadata": {},
   "outputs": [],
   "source": [
    "#!pip install langdetect"
   ]
  },
  {
   "cell_type": "code",
   "execution_count": 25,
   "id": "cc7e0d28",
   "metadata": {},
   "outputs": [
    {
     "name": "stdout",
     "output_type": "stream",
     "text": [
      "en\n",
      "de\n",
      "pt\n",
      "tr\n"
     ]
    }
   ],
   "source": [
    "from langdetect import detect\n",
    "print(detect(\"War doesn't show who's right , just who's left\"))\n",
    "print(detect(\"Ein , zwei ,drei,vier\"))\n",
    "print(detect(\"Eu gosto de mulher\"))\n",
    "print(detect(\"Nasılsınız?\"))\n"
   ]
  },
  {
   "cell_type": "code",
   "execution_count": 26,
   "id": "fdd6fb58",
   "metadata": {},
   "outputs": [
    {
     "data": {
      "text/plain": [
       "TextBlob(\"bonjour\")"
      ]
     },
     "execution_count": 26,
     "metadata": {},
     "output_type": "execute_result"
    }
   ],
   "source": [
    "blob = TextBlob(\"hello\")\n",
    "blob.translate(from_lang='en', to='fr')"
   ]
  },
  {
   "cell_type": "code",
   "execution_count": 27,
   "id": "c6607b74",
   "metadata": {},
   "outputs": [
    {
     "data": {
      "text/plain": [
       "TextBlob(\"Wer bin ich ?\")"
      ]
     },
     "execution_count": 27,
     "metadata": {},
     "output_type": "execute_result"
    }
   ],
   "source": [
    "en_blob=TextBlob(u\"Who am I ?\") #u demek utf8 demek\n",
    "en_blob.translate(from_lang=\"en\",to='de')"
   ]
  },
  {
   "attachments": {
    "image-2.png": {
     "image/png": "[encoded data removed]"
    }
   },
   "cell_type": "markdown",
   "id": "c12e2ac0",
   "metadata": {},
   "source": [
    "# TF-IDF Term Frequency - Inverse Document Frequency\n",
    "![image-2.png](attachment:image-2.png)"
   ]
  },
  {
   "cell_type": "code",
   "execution_count": 28,
   "id": "014f050d",
   "metadata": {},
   "outputs": [
    {
     "data": {
      "text/html": [
       "<div>\n",
       "<style scoped>\n",
       "    .dataframe tbody tr th:only-of-type {\n",
       "        vertical-align: middle;\n",
       "    }\n",
       "\n",
       "    .dataframe tbody tr th {\n",
       "        vertical-align: top;\n",
       "    }\n",
       "\n",
       "    .dataframe thead th {\n",
       "        text-align: right;\n",
       "    }\n",
       "</style>\n",
       "<table border=\"1\" class=\"dataframe\">\n",
       "  <thead>\n",
       "    <tr style=\"text-align: right;\">\n",
       "      <th></th>\n",
       "      <th>cab</th>\n",
       "      <th>call</th>\n",
       "      <th>me</th>\n",
       "      <th>please</th>\n",
       "      <th>tonight</th>\n",
       "      <th>you</th>\n",
       "    </tr>\n",
       "  </thead>\n",
       "  <tbody>\n",
       "    <tr>\n",
       "      <th>0</th>\n",
       "      <td>0</td>\n",
       "      <td>1</td>\n",
       "      <td>0</td>\n",
       "      <td>0</td>\n",
       "      <td>1</td>\n",
       "      <td>1</td>\n",
       "    </tr>\n",
       "    <tr>\n",
       "      <th>1</th>\n",
       "      <td>1</td>\n",
       "      <td>1</td>\n",
       "      <td>1</td>\n",
       "      <td>0</td>\n",
       "      <td>0</td>\n",
       "      <td>0</td>\n",
       "    </tr>\n",
       "    <tr>\n",
       "      <th>2</th>\n",
       "      <td>0</td>\n",
       "      <td>1</td>\n",
       "      <td>1</td>\n",
       "      <td>2</td>\n",
       "      <td>0</td>\n",
       "      <td>0</td>\n",
       "    </tr>\n",
       "  </tbody>\n",
       "</table>\n",
       "</div>"
      ],
      "text/plain": [
       "   cab  call  me  please  tonight  you\n",
       "0    0     1   0       0        1    1\n",
       "1    1     1   1       0        0    0\n",
       "2    0     1   1       2        0    0"
      ]
     },
     "execution_count": 28,
     "metadata": {},
     "output_type": "execute_result"
    }
   ],
   "source": [
    "import pandas as pd\n",
    "import numpy as np\n",
    "import scipy as sp\n",
    "from sklearn.feature_extraction.text import CountVectorizer , TfidfVectorizer\n",
    "\n",
    "simple_train=[\"Call you tonight\",\"Call me a cab\",\"please call me .... PLEASE!\"]\n",
    "\n",
    "vect=CountVectorizer() #dummy variable çevirmek gibi\n",
    "# Kelimeleri vektöre dönüştürüyor\n",
    "# bu kelimeleri bir sparse matrix e atıyor\n",
    "tf=pd.DataFrame(vect.fit_transform(simple_train).toarray(),columns=vect.get_feature_names_out())\n",
    "#fit_transform learn the vocab dict and return term-document matrix\n",
    "# column isimlerini feature isimleri ile değiştiriyor \n",
    "tf\n",
    "#tf=Term Freqency,Cümle içinde kelimeler ne kadar geçiyor?\n",
    "# 'a' dahil degil mesela"
   ]
  },
  {
   "attachments": {
    "image.png": {
     "image/png": "[encoded data removed]"
    }
   },
   "cell_type": "markdown",
   "id": "8c7ad488",
   "metadata": {},
   "source": [
    "![image.png](attachment:image.png)"
   ]
  },
  {
   "cell_type": "code",
   "execution_count": 29,
   "id": "aba6864c",
   "metadata": {},
   "outputs": [
    {
     "data": {
      "text/html": [
       "<div>\n",
       "<style scoped>\n",
       "    .dataframe tbody tr th:only-of-type {\n",
       "        vertical-align: middle;\n",
       "    }\n",
       "\n",
       "    .dataframe tbody tr th {\n",
       "        vertical-align: top;\n",
       "    }\n",
       "\n",
       "    .dataframe thead th {\n",
       "        text-align: right;\n",
       "    }\n",
       "</style>\n",
       "<table border=\"1\" class=\"dataframe\">\n",
       "  <thead>\n",
       "    <tr style=\"text-align: right;\">\n",
       "      <th></th>\n",
       "      <th>cab</th>\n",
       "      <th>call</th>\n",
       "      <th>me</th>\n",
       "      <th>please</th>\n",
       "      <th>tonight</th>\n",
       "      <th>you</th>\n",
       "    </tr>\n",
       "  </thead>\n",
       "  <tbody>\n",
       "    <tr>\n",
       "      <th>0</th>\n",
       "      <td>1</td>\n",
       "      <td>3</td>\n",
       "      <td>2</td>\n",
       "      <td>2</td>\n",
       "      <td>1</td>\n",
       "      <td>1</td>\n",
       "    </tr>\n",
       "  </tbody>\n",
       "</table>\n",
       "</div>"
      ],
      "text/plain": [
       "   cab  call  me  please  tonight  you\n",
       "0    1     3   2       2        1    1"
      ]
     },
     "execution_count": 29,
     "metadata": {},
     "output_type": "execute_result"
    }
   ],
   "source": [
    "vect=CountVectorizer() # binary=True yaziyodu icinde ama kaldirdim tf/df yanlis geliyordu bence\n",
    "df=vect.fit_transform(simple_train).toarray().sum(axis=0)\n",
    "pd.DataFrame(df.reshape(1,6),columns=vect.get_feature_names_out())\n",
    "#df=Document Freqency, document yani tamamında ne kadar geçiyor "
   ]
  },
  {
   "cell_type": "code",
   "execution_count": 30,
   "id": "2bbe4fdf",
   "metadata": {},
   "outputs": [
    {
     "data": {
      "text/html": [
       "<div>\n",
       "<style scoped>\n",
       "    .dataframe tbody tr th:only-of-type {\n",
       "        vertical-align: middle;\n",
       "    }\n",
       "\n",
       "    .dataframe tbody tr th {\n",
       "        vertical-align: top;\n",
       "    }\n",
       "\n",
       "    .dataframe thead th {\n",
       "        text-align: right;\n",
       "    }\n",
       "</style>\n",
       "<table border=\"1\" class=\"dataframe\">\n",
       "  <thead>\n",
       "    <tr style=\"text-align: right;\">\n",
       "      <th></th>\n",
       "      <th>cab</th>\n",
       "      <th>call</th>\n",
       "      <th>me</th>\n",
       "      <th>please</th>\n",
       "      <th>tonight</th>\n",
       "      <th>you</th>\n",
       "    </tr>\n",
       "  </thead>\n",
       "  <tbody>\n",
       "    <tr>\n",
       "      <th>0</th>\n",
       "      <td>0.0</td>\n",
       "      <td>0.333333</td>\n",
       "      <td>0.0</td>\n",
       "      <td>0.0</td>\n",
       "      <td>1.0</td>\n",
       "      <td>1.0</td>\n",
       "    </tr>\n",
       "    <tr>\n",
       "      <th>1</th>\n",
       "      <td>1.0</td>\n",
       "      <td>0.333333</td>\n",
       "      <td>0.5</td>\n",
       "      <td>0.0</td>\n",
       "      <td>0.0</td>\n",
       "      <td>0.0</td>\n",
       "    </tr>\n",
       "    <tr>\n",
       "      <th>2</th>\n",
       "      <td>0.0</td>\n",
       "      <td>0.333333</td>\n",
       "      <td>0.5</td>\n",
       "      <td>1.0</td>\n",
       "      <td>0.0</td>\n",
       "      <td>0.0</td>\n",
       "    </tr>\n",
       "  </tbody>\n",
       "</table>\n",
       "</div>"
      ],
      "text/plain": [
       "   cab      call   me  please  tonight  you\n",
       "0  0.0  0.333333  0.0     0.0      1.0  1.0\n",
       "1  1.0  0.333333  0.5     0.0      0.0  0.0\n",
       "2  0.0  0.333333  0.5     1.0      0.0  0.0"
      ]
     },
     "execution_count": 30,
     "metadata": {},
     "output_type": "execute_result"
    }
   ],
   "source": [
    "tf/df # why is that? What is the purpose?\n",
    "# o cumlede ne kadar gecti / tum cumlelerde ne kadar gecti"
   ]
  },
  {
   "cell_type": "code",
   "execution_count": 31,
   "id": "91d41f0f",
   "metadata": {},
   "outputs": [
    {
     "data": {
      "text/html": [
       "<div>\n",
       "<style scoped>\n",
       "    .dataframe tbody tr th:only-of-type {\n",
       "        vertical-align: middle;\n",
       "    }\n",
       "\n",
       "    .dataframe tbody tr th {\n",
       "        vertical-align: top;\n",
       "    }\n",
       "\n",
       "    .dataframe thead th {\n",
       "        text-align: right;\n",
       "    }\n",
       "</style>\n",
       "<table border=\"1\" class=\"dataframe\">\n",
       "  <thead>\n",
       "    <tr style=\"text-align: right;\">\n",
       "      <th></th>\n",
       "      <th>cab</th>\n",
       "      <th>call</th>\n",
       "      <th>me</th>\n",
       "      <th>please</th>\n",
       "      <th>tonight</th>\n",
       "      <th>you</th>\n",
       "    </tr>\n",
       "  </thead>\n",
       "  <tbody>\n",
       "    <tr>\n",
       "      <th>0</th>\n",
       "      <td>0.000000</td>\n",
       "      <td>0.385372</td>\n",
       "      <td>0.000000</td>\n",
       "      <td>0.000000</td>\n",
       "      <td>0.652491</td>\n",
       "      <td>0.652491</td>\n",
       "    </tr>\n",
       "    <tr>\n",
       "      <th>1</th>\n",
       "      <td>0.720333</td>\n",
       "      <td>0.425441</td>\n",
       "      <td>0.547832</td>\n",
       "      <td>0.000000</td>\n",
       "      <td>0.000000</td>\n",
       "      <td>0.000000</td>\n",
       "    </tr>\n",
       "    <tr>\n",
       "      <th>2</th>\n",
       "      <td>0.000000</td>\n",
       "      <td>0.266075</td>\n",
       "      <td>0.342620</td>\n",
       "      <td>0.901008</td>\n",
       "      <td>0.000000</td>\n",
       "      <td>0.000000</td>\n",
       "    </tr>\n",
       "  </tbody>\n",
       "</table>\n",
       "</div>"
      ],
      "text/plain": [
       "        cab      call        me    please   tonight       you\n",
       "0  0.000000  0.385372  0.000000  0.000000  0.652491  0.652491\n",
       "1  0.720333  0.425441  0.547832  0.000000  0.000000  0.000000\n",
       "2  0.000000  0.266075  0.342620  0.901008  0.000000  0.000000"
      ]
     },
     "execution_count": 31,
     "metadata": {},
     "output_type": "execute_result"
    }
   ],
   "source": [
    "# Term Frequency-Inverse Document Frequency (TF-IDF)\n",
    "vect = TfidfVectorizer()\n",
    "pd.DataFrame(vect.fit_transform(simple_train).toarray(),columns=vect.get_feature_names_out())"
   ]
  },
  {
   "cell_type": "markdown",
   "id": "b6af270a",
   "metadata": {},
   "source": [
    "## CountVectorizer - Fit Transform with NLP"
   ]
  },
  {
   "cell_type": "code",
   "execution_count": 32,
   "id": "a8472ff5",
   "metadata": {},
   "outputs": [
    {
     "data": {
      "text/html": [
       "<div>\n",
       "<style scoped>\n",
       "    .dataframe tbody tr th:only-of-type {\n",
       "        vertical-align: middle;\n",
       "    }\n",
       "\n",
       "    .dataframe tbody tr th {\n",
       "        vertical-align: top;\n",
       "    }\n",
       "\n",
       "    .dataframe thead th {\n",
       "        text-align: right;\n",
       "    }\n",
       "</style>\n",
       "<table border=\"1\" class=\"dataframe\">\n",
       "  <thead>\n",
       "    <tr style=\"text-align: right;\">\n",
       "      <th></th>\n",
       "      <th>and</th>\n",
       "      <th>document</th>\n",
       "      <th>first</th>\n",
       "      <th>is</th>\n",
       "      <th>one</th>\n",
       "      <th>second</th>\n",
       "      <th>the</th>\n",
       "      <th>third</th>\n",
       "      <th>this</th>\n",
       "    </tr>\n",
       "  </thead>\n",
       "  <tbody>\n",
       "    <tr>\n",
       "      <th>0</th>\n",
       "      <td>0</td>\n",
       "      <td>1</td>\n",
       "      <td>1</td>\n",
       "      <td>1</td>\n",
       "      <td>0</td>\n",
       "      <td>0</td>\n",
       "      <td>1</td>\n",
       "      <td>0</td>\n",
       "      <td>1</td>\n",
       "    </tr>\n",
       "    <tr>\n",
       "      <th>1</th>\n",
       "      <td>0</td>\n",
       "      <td>1</td>\n",
       "      <td>0</td>\n",
       "      <td>1</td>\n",
       "      <td>0</td>\n",
       "      <td>1</td>\n",
       "      <td>1</td>\n",
       "      <td>0</td>\n",
       "      <td>1</td>\n",
       "    </tr>\n",
       "    <tr>\n",
       "      <th>2</th>\n",
       "      <td>1</td>\n",
       "      <td>0</td>\n",
       "      <td>0</td>\n",
       "      <td>0</td>\n",
       "      <td>1</td>\n",
       "      <td>0</td>\n",
       "      <td>1</td>\n",
       "      <td>1</td>\n",
       "      <td>0</td>\n",
       "    </tr>\n",
       "    <tr>\n",
       "      <th>3</th>\n",
       "      <td>0</td>\n",
       "      <td>1</td>\n",
       "      <td>1</td>\n",
       "      <td>1</td>\n",
       "      <td>0</td>\n",
       "      <td>0</td>\n",
       "      <td>1</td>\n",
       "      <td>0</td>\n",
       "      <td>1</td>\n",
       "    </tr>\n",
       "  </tbody>\n",
       "</table>\n",
       "</div>"
      ],
      "text/plain": [
       "   and  document  first  is  one  second  the  third  this\n",
       "0    0         1      1   1    0       0    1      0     1\n",
       "1    0         1      0   1    0       1    1      0     1\n",
       "2    1         0      0   0    1       0    1      1     0\n",
       "3    0         1      1   1    0       0    1      0     1"
      ]
     },
     "execution_count": 32,
     "metadata": {},
     "output_type": "execute_result"
    }
   ],
   "source": [
    "import pandas as pd \n",
    "from sklearn.feature_extraction.text import CountVectorizer\n",
    "\n",
    "vectorizer=CountVectorizer(min_df=1)\n",
    "#minimum bir harf olcak demek # aslinda 2 cunku 'a' yi almadi\n",
    "#yani boşları karakter olarak almayacak\n",
    "\n",
    "corpus=[\"This is the a first document\",\"This is the second document\",\"And the third one\",\"Is this the first document ? \"]\n",
    "\n",
    "X=vectorizer.fit_transform(corpus)\n",
    "# her kelimenin vektör uzarında 0 kabul ettiğimiz yere uzaklığını verir\n",
    "\n",
    "pd.DataFrame(X.toarray(),columns=vectorizer.get_feature_names_out())\n",
    "#burda get_feature_names diyince bu matrixlere isim  koyuyoruz"
   ]
  },
  {
   "cell_type": "code",
   "execution_count": 33,
   "id": "155899df",
   "metadata": {},
   "outputs": [
    {
     "name": "stdout",
     "output_type": "stream",
     "text": [
      "  (0, 8)\t1\n",
      "  (0, 3)\t1\n",
      "  (0, 6)\t1\n",
      "  (0, 2)\t1\n",
      "  (0, 1)\t1\n",
      "  (1, 8)\t1\n",
      "  (1, 3)\t1\n",
      "  (1, 6)\t1\n",
      "  (1, 1)\t1\n",
      "  (1, 5)\t1\n",
      "  (2, 6)\t1\n",
      "  (2, 0)\t1\n",
      "  (2, 7)\t1\n",
      "  (2, 4)\t1\n",
      "  (3, 8)\t1\n",
      "  (3, 3)\t1\n",
      "  (3, 6)\t1\n",
      "  (3, 2)\t1\n",
      "  (3, 1)\t1\n"
     ]
    }
   ],
   "source": [
    "print(X)"
   ]
  },
  {
   "cell_type": "markdown",
   "id": "35967673",
   "metadata": {},
   "source": [
    "## Yelp review analysis"
   ]
  },
  {
   "cell_type": "markdown",
   "id": "beb9664c",
   "metadata": {},
   "source": [
    "- #### Projeye başlarken yapılması gerekenler\n",
    " -\n",
    " - Bütün cümleler küçük harf yapıyoruz\n",
    " - Noktalama işaretlerini kaldır\n",
    " - rakamları kaldır\n",
    " - satır sonu \\n \\r\n",
    " - stop wordsleri kaldır (gereksiz kelimeler)\n",
    " - Tokenize etmeliyiz\n",
    " - Lemma ve Stema - Ekleri kaldırıp kökü bulmak için\n",
    " - Vectorizer ile yazıları rakama atıyoruz "
   ]
  },
  {
   "cell_type": "code",
   "execution_count": 34,
   "id": "8631c10e",
   "metadata": {},
   "outputs": [],
   "source": [
    "import pandas as pd \n",
    "import numpy as np\n",
    "import scipy as sp\n",
    "import matplotlib.pyplot as plt\n",
    "from sklearn.model_selection import train_test_split\n",
    "from sklearn.feature_extraction.text import CountVectorizer,TfidfVectorizer\n",
    "from sklearn.naive_bayes import MultinomialNB # 3 veya daha fazla seçenek için\n",
    "from sklearn.linear_model import LogisticRegression # 2 seçenek varsa kullanılır\n",
    "from textblob import TextBlob , Word\n",
    "from sklearn import metrics\n",
    "from nltk.stem.snowball import SnowballStemmer\n",
    "%matplotlib inline"
   ]
  },
  {
   "cell_type": "code",
   "execution_count": 35,
   "id": "0e410a2e",
   "metadata": {},
   "outputs": [
    {
     "data": {
      "text/html": [
       "<div>\n",
       "<style scoped>\n",
       "    .dataframe tbody tr th:only-of-type {\n",
       "        vertical-align: middle;\n",
       "    }\n",
       "\n",
       "    .dataframe tbody tr th {\n",
       "        vertical-align: top;\n",
       "    }\n",
       "\n",
       "    .dataframe thead th {\n",
       "        text-align: right;\n",
       "    }\n",
       "</style>\n",
       "<table border=\"1\" class=\"dataframe\">\n",
       "  <thead>\n",
       "    <tr style=\"text-align: right;\">\n",
       "      <th></th>\n",
       "      <th>business_id</th>\n",
       "      <th>date</th>\n",
       "      <th>review_id</th>\n",
       "      <th>stars</th>\n",
       "      <th>text</th>\n",
       "      <th>type</th>\n",
       "      <th>user_id</th>\n",
       "      <th>cool</th>\n",
       "      <th>useful</th>\n",
       "      <th>funny</th>\n",
       "    </tr>\n",
       "  </thead>\n",
       "  <tbody>\n",
       "    <tr>\n",
       "      <th>0</th>\n",
       "      <td>9yKzy9PApeiPPOUJEtnvkg</td>\n",
       "      <td>2011-01-26</td>\n",
       "      <td>fWKvX83p0-ka4JS3dc6E5A</td>\n",
       "      <td>5</td>\n",
       "      <td>My wife took me here on my birthday for breakf...</td>\n",
       "      <td>review</td>\n",
       "      <td>rLtl8ZkDX5vH5nAx9C3q5Q</td>\n",
       "      <td>2</td>\n",
       "      <td>5</td>\n",
       "      <td>0</td>\n",
       "    </tr>\n",
       "    <tr>\n",
       "      <th>1</th>\n",
       "      <td>ZRJwVLyzEJq1VAihDhYiow</td>\n",
       "      <td>2011-07-27</td>\n",
       "      <td>IjZ33sJrzXqU-0X6U8NwyA</td>\n",
       "      <td>5</td>\n",
       "      <td>I have no idea why some people give bad review...</td>\n",
       "      <td>review</td>\n",
       "      <td>0a2KyEL0d3Yb1V6aivbIuQ</td>\n",
       "      <td>0</td>\n",
       "      <td>0</td>\n",
       "      <td>0</td>\n",
       "    </tr>\n",
       "    <tr>\n",
       "      <th>2</th>\n",
       "      <td>6oRAC4uyJCsJl1X0WZpVSA</td>\n",
       "      <td>2012-06-14</td>\n",
       "      <td>IESLBzqUCLdSzSqm0eCSxQ</td>\n",
       "      <td>4</td>\n",
       "      <td>love the gyro plate. Rice is so good and I als...</td>\n",
       "      <td>review</td>\n",
       "      <td>0hT2KtfLiobPvh6cDC8JQg</td>\n",
       "      <td>0</td>\n",
       "      <td>1</td>\n",
       "      <td>0</td>\n",
       "    </tr>\n",
       "    <tr>\n",
       "      <th>3</th>\n",
       "      <td>_1QQZuf4zZOyFCvXc0o6Vg</td>\n",
       "      <td>2010-05-27</td>\n",
       "      <td>G-WvGaISbqqaMHlNnByodA</td>\n",
       "      <td>5</td>\n",
       "      <td>Rosie, Dakota, and I LOVE Chaparral Dog Park!!...</td>\n",
       "      <td>review</td>\n",
       "      <td>uZetl9T0NcROGOyFfughhg</td>\n",
       "      <td>1</td>\n",
       "      <td>2</td>\n",
       "      <td>0</td>\n",
       "    </tr>\n",
       "    <tr>\n",
       "      <th>4</th>\n",
       "      <td>6ozycU1RpktNG2-1BroVtw</td>\n",
       "      <td>2012-01-05</td>\n",
       "      <td>1uJFq2r5QfJG_6ExMRCaGw</td>\n",
       "      <td>5</td>\n",
       "      <td>General Manager Scott Petello is a good egg!!!...</td>\n",
       "      <td>review</td>\n",
       "      <td>vYmM4KTsC8ZfQBg-j5MWkw</td>\n",
       "      <td>0</td>\n",
       "      <td>0</td>\n",
       "      <td>0</td>\n",
       "    </tr>\n",
       "  </tbody>\n",
       "</table>\n",
       "</div>"
      ],
      "text/plain": [
       "              business_id        date               review_id  stars  \\\n",
       "0  9yKzy9PApeiPPOUJEtnvkg  2011-01-26  fWKvX83p0-ka4JS3dc6E5A      5   \n",
       "1  ZRJwVLyzEJq1VAihDhYiow  2011-07-27  IjZ33sJrzXqU-0X6U8NwyA      5   \n",
       "2  6oRAC4uyJCsJl1X0WZpVSA  2012-06-14  IESLBzqUCLdSzSqm0eCSxQ      4   \n",
       "3  _1QQZuf4zZOyFCvXc0o6Vg  2010-05-27  G-WvGaISbqqaMHlNnByodA      5   \n",
       "4  6ozycU1RpktNG2-1BroVtw  2012-01-05  1uJFq2r5QfJG_6ExMRCaGw      5   \n",
       "\n",
       "                                                text    type  \\\n",
       "0  My wife took me here on my birthday for breakf...  review   \n",
       "1  I have no idea why some people give bad review...  review   \n",
       "2  love the gyro plate. Rice is so good and I als...  review   \n",
       "3  Rosie, Dakota, and I LOVE Chaparral Dog Park!!...  review   \n",
       "4  General Manager Scott Petello is a good egg!!!...  review   \n",
       "\n",
       "                  user_id  cool  useful  funny  \n",
       "0  rLtl8ZkDX5vH5nAx9C3q5Q     2       5      0  \n",
       "1  0a2KyEL0d3Yb1V6aivbIuQ     0       0      0  \n",
       "2  0hT2KtfLiobPvh6cDC8JQg     0       1      0  \n",
       "3  uZetl9T0NcROGOyFfughhg     1       2      0  \n",
       "4  vYmM4KTsC8ZfQBg-j5MWkw     0       0      0  "
      ]
     },
     "execution_count": 35,
     "metadata": {},
     "output_type": "execute_result"
    }
   ],
   "source": [
    "yelp=pd.read_csv(\"yelp.csv\")\n",
    "yelp.head()"
   ]
  },
  {
   "cell_type": "code",
   "execution_count": 36,
   "id": "d3877ae7",
   "metadata": {},
   "outputs": [
    {
     "name": "stdout",
     "output_type": "stream",
     "text": [
      "<class 'pandas.core.frame.DataFrame'>\n",
      "RangeIndex: 10000 entries, 0 to 9999\n",
      "Data columns (total 10 columns):\n",
      " #   Column       Non-Null Count  Dtype \n",
      "---  ------       --------------  ----- \n",
      " 0   business_id  10000 non-null  object\n",
      " 1   date         10000 non-null  object\n",
      " 2   review_id    10000 non-null  object\n",
      " 3   stars        10000 non-null  int64 \n",
      " 4   text         10000 non-null  object\n",
      " 5   type         10000 non-null  object\n",
      " 6   user_id      10000 non-null  object\n",
      " 7   cool         10000 non-null  int64 \n",
      " 8   useful       10000 non-null  int64 \n",
      " 9   funny        10000 non-null  int64 \n",
      "dtypes: int64(4), object(6)\n",
      "memory usage: 781.4+ KB\n"
     ]
    }
   ],
   "source": [
    "yelp.info()"
   ]
  },
  {
   "cell_type": "code",
   "execution_count": 37,
   "id": "517c9223",
   "metadata": {},
   "outputs": [],
   "source": [
    "yelp[\"text\"]=yelp[\"text\"].str.lower()"
   ]
  },
  {
   "cell_type": "code",
   "execution_count": 38,
   "id": "7d1e1720",
   "metadata": {},
   "outputs": [
    {
     "name": "stderr",
     "output_type": "stream",
     "text": [
      "C:\\Users\\Azmi\\AppData\\Local\\Temp\\ipykernel_10280\\1083425405.py:1: FutureWarning: The default value of regex will change from True to False in a future version.\n",
      "  yelp[\"text\"].str.replace(\"[^\\w\\s]\",\"\")\n"
     ]
    },
    {
     "data": {
      "text/plain": [
       "0       my wife took me here on my birthday for breakf...\n",
       "1       i have no idea why some people give bad review...\n",
       "2       love the gyro plate rice is so good and i also...\n",
       "3       rosie dakota and i love chaparral dog park its...\n",
       "4       general manager scott petello is a good egg no...\n",
       "                              ...                        \n",
       "9995    first visithad lunch here today  used my group...\n",
       "9996    should be called house of deliciousness\\n\\ni c...\n",
       "9997    i recently visited olive and ivy for business ...\n",
       "9998    my nephew just moved to scottsdale recently so...\n",
       "9999    45 locations all 45 star average i think arizo...\n",
       "Name: text, Length: 10000, dtype: object"
      ]
     },
     "execution_count": 38,
     "metadata": {},
     "output_type": "execute_result"
    }
   ],
   "source": [
    "yelp[\"text\"].str.replace(\"[^\\w\\s]\",\"\")"
   ]
  },
  {
   "cell_type": "code",
   "execution_count": 39,
   "id": "73049767",
   "metadata": {},
   "outputs": [
    {
     "name": "stderr",
     "output_type": "stream",
     "text": [
      "C:\\Users\\Azmi\\AppData\\Local\\Temp\\ipykernel_10280\\1968110083.py:1: FutureWarning: The default value of regex will change from True to False in a future version.\n",
      "  yelp[\"text\"]=yelp[\"text\"].str.replace(\"[^\\w\\s]\",\"\")\n"
     ]
    }
   ],
   "source": [
    "yelp[\"text\"]=yelp[\"text\"].str.replace(\"[^\\w\\s]\",\"\")\n",
    "# burda gereksiz karakterleri kaldırıyor noktalama vb."
   ]
  },
  {
   "cell_type": "code",
   "execution_count": 40,
   "id": "f7bca779",
   "metadata": {},
   "outputs": [
    {
     "name": "stderr",
     "output_type": "stream",
     "text": [
      "C:\\Users\\Azmi\\AppData\\Local\\Temp\\ipykernel_10280\\232096335.py:1: FutureWarning: The default value of regex will change from True to False in a future version.\n",
      "  yelp[\"text\"]=yelp[\"text\"].str.replace(\"\\d+\",\"\")\n"
     ]
    }
   ],
   "source": [
    "yelp[\"text\"]=yelp[\"text\"].str.replace(\"\\d+\",\"\")\n",
    "# digit yani sayıları çıkarıyoruz"
   ]
  },
  {
   "cell_type": "code",
   "execution_count": 41,
   "id": "21c5e69d",
   "metadata": {},
   "outputs": [],
   "source": [
    "yelp[\"text\"]=yelp[\"text\"].str.replace(\"\\n\",\" \").str.replace(\"\\r\",\"\") # r paragraf şeysi\n",
    "#\\n leri boşluk yapıyoruz tüm yazı bir satır oluyor"
   ]
  },
  {
   "cell_type": "code",
   "execution_count": 42,
   "id": "eeb55d7b",
   "metadata": {
    "scrolled": false
   },
   "outputs": [
    {
     "name": "stdout",
     "output_type": "stream",
     "text": [
      "(4086,)\n"
     ]
    }
   ],
   "source": [
    "yelp_best_worst=yelp[(yelp[\"stars\"]== 5) | (yelp[\"stars\"]==1)]\n",
    "# 5 yıldız veya 1 yıldız verenleri aldık \n",
    "\n",
    "yelp_best_worst.reset_index(drop=True,inplace=True)\n",
    "# sadece 5 ve 1 yıldız alındı ve indexler yenilendi\n",
    "\n",
    "x=yelp_best_worst.text # reviews\n",
    "y=yelp_best_worst.stars # ratings\n",
    "\n",
    "print(x.shape)\n",
    "\n",
    "# split into training and test sets\n",
    "x_train,x_test,y_train,y_test=train_test_split(x,y,random_state=1) # % 25 otomatik"
   ]
  },
  {
   "cell_type": "code",
   "execution_count": 43,
   "id": "9e1611b2",
   "metadata": {},
   "outputs": [
    {
     "name": "stdout",
     "output_type": "stream",
     "text": [
      "0       my wife took me here on my birthday for breakf...\n",
      "1       i have no idea why some people give bad review...\n",
      "2       rosie dakota and i love chaparral dog park its...\n",
      "3       general manager scott petello is a good egg no...\n",
      "4       drop what youre doing and drive here after i a...\n",
      "                              ...                        \n",
      "4081    yes i do rock the hipster joints  i dig this p...\n",
      "4082    only  stars   a few notes the folks that rated...\n",
      "4083    im not normally one to jump at reviewing a cha...\n",
      "4084    lets seewhat is there not to like about surpri...\n",
      "4085     locations all  star average i think arizona r...\n",
      "Name: text, Length: 4086, dtype: object\n"
     ]
    }
   ],
   "source": [
    "print(x)"
   ]
  },
  {
   "cell_type": "code",
   "execution_count": 44,
   "id": "416d3d5f",
   "metadata": {},
   "outputs": [
    {
     "name": "stdout",
     "output_type": "stream",
     "text": [
      "1607    looking a cutting edge wanting the best for ev...\n",
      "3409    greatness in the form of food just like the ot...\n",
      "1751    the flower studio far exceeded my expectations...\n",
      "2275         so yummy strange combination but great place\n",
      "230     ive been hearing about these cheesecakes from ...\n",
      "                              ...                        \n",
      "2793    honey jalapeño chicken lollipops and sweet pot...\n",
      "671                      probably my favorite restaurant \n",
      "3441    a philosophical elder of my profession commonl...\n",
      "3224    first im sorry this review is lengthy but i re...\n",
      "3362    you speak italian to me and provide mouth wate...\n",
      "Name: text, Length: 1022, dtype: object\n"
     ]
    }
   ],
   "source": [
    "print(x_test)                                                                  "
   ]
  },
  {
   "cell_type": "markdown",
   "id": "7fbaebc4",
   "metadata": {},
   "source": [
    "## Tokenization"
   ]
  },
  {
   "cell_type": "code",
   "execution_count": 45,
   "id": "248b18db",
   "metadata": {},
   "outputs": [
    {
     "name": "stdout",
     "output_type": "stream",
     "text": [
      "(3064, 18081) (1022, 18081)\n"
     ]
    }
   ],
   "source": [
    "vect=CountVectorizer(lowercase=True, stop_words=\"english\")\n",
    "# buraya lowercase=True diyerek de yazıları küçültebiliyomuşuz\n",
    "# stopwordsleri yani gereksiz kelimeleri atıyoruz\n",
    "\n",
    "x_train_dtm=vect.fit_transform(x_train)\n",
    "# veriden öğrenir fit ile ardından transform ile yazıyı vektöre çevirir \n",
    "\n",
    "x_test_dtm=vect.transform(x_test) # test de sadece transform :)\n",
    "print(x_train_dtm.shape, x_test_dtm.shape)"
   ]
  },
  {
   "cell_type": "code",
   "execution_count": 48,
   "id": "5abb5cbf",
   "metadata": {},
   "outputs": [
    {
     "data": {
      "text/plain": [
       "2790    fillybs  only  reviews nine now  wow do i miss...\n",
       "725     my husband and i absolutely love this restaura...\n",
       "1578    we went today after lunch i got my usual of li...\n",
       "282     totally dissapointed  i had purchased a coupon...\n",
       "2024    costco travel  my husband and i recently retur...\n",
       "Name: text, dtype: object"
      ]
     },
     "execution_count": 48,
     "metadata": {},
     "output_type": "execute_result"
    }
   ],
   "source": [
    "x_train.head()"
   ]
  },
  {
   "cell_type": "code",
   "execution_count": 46,
   "id": "ca3fad33",
   "metadata": {},
   "outputs": [
    {
     "data": {
      "text/plain": [
       "array([[0, 0, 0, ..., 0, 0, 0],\n",
       "       [0, 0, 0, ..., 0, 0, 0],\n",
       "       [0, 0, 0, ..., 0, 0, 0],\n",
       "       ...,\n",
       "       [0, 0, 0, ..., 0, 0, 0],\n",
       "       [0, 0, 0, ..., 0, 0, 0],\n",
       "       [0, 0, 0, ..., 0, 0, 0]], dtype=int64)"
      ]
     },
     "execution_count": 46,
     "metadata": {},
     "output_type": "execute_result"
    }
   ],
   "source": [
    "x_test_dtm.toarray()"
   ]
  },
  {
   "cell_type": "code",
   "execution_count": 47,
   "id": "d8c20342",
   "metadata": {},
   "outputs": [
    {
     "data": {
      "text/html": [
       "<div>\n",
       "<style scoped>\n",
       "    .dataframe tbody tr th:only-of-type {\n",
       "        vertical-align: middle;\n",
       "    }\n",
       "\n",
       "    .dataframe tbody tr th {\n",
       "        vertical-align: top;\n",
       "    }\n",
       "\n",
       "    .dataframe thead th {\n",
       "        text-align: right;\n",
       "    }\n",
       "</style>\n",
       "<table border=\"1\" class=\"dataframe\">\n",
       "  <thead>\n",
       "    <tr style=\"text-align: right;\">\n",
       "      <th></th>\n",
       "      <th>______</th>\n",
       "      <th>_______________</th>\n",
       "      <th>_c</th>\n",
       "      <th>aa</th>\n",
       "      <th>aaa</th>\n",
       "      <th>aaaamazing</th>\n",
       "      <th>aaammmazzing</th>\n",
       "      <th>aaron</th>\n",
       "      <th>ab</th>\n",
       "      <th>abandoned</th>\n",
       "      <th>...</th>\n",
       "      <th>zucca</th>\n",
       "      <th>zucchini</th>\n",
       "      <th>zuchinni</th>\n",
       "      <th>zumba</th>\n",
       "      <th>zupa</th>\n",
       "      <th>zuzu</th>\n",
       "      <th>zwiebelkräuter</th>\n",
       "      <th>éclairs</th>\n",
       "      <th>école</th>\n",
       "      <th>ém</th>\n",
       "    </tr>\n",
       "  </thead>\n",
       "  <tbody>\n",
       "    <tr>\n",
       "      <th>0</th>\n",
       "      <td>0</td>\n",
       "      <td>0</td>\n",
       "      <td>0</td>\n",
       "      <td>0</td>\n",
       "      <td>0</td>\n",
       "      <td>0</td>\n",
       "      <td>0</td>\n",
       "      <td>0</td>\n",
       "      <td>0</td>\n",
       "      <td>0</td>\n",
       "      <td>...</td>\n",
       "      <td>0</td>\n",
       "      <td>0</td>\n",
       "      <td>0</td>\n",
       "      <td>0</td>\n",
       "      <td>0</td>\n",
       "      <td>0</td>\n",
       "      <td>0</td>\n",
       "      <td>0</td>\n",
       "      <td>0</td>\n",
       "      <td>0</td>\n",
       "    </tr>\n",
       "    <tr>\n",
       "      <th>1</th>\n",
       "      <td>0</td>\n",
       "      <td>0</td>\n",
       "      <td>0</td>\n",
       "      <td>0</td>\n",
       "      <td>0</td>\n",
       "      <td>0</td>\n",
       "      <td>0</td>\n",
       "      <td>0</td>\n",
       "      <td>0</td>\n",
       "      <td>0</td>\n",
       "      <td>...</td>\n",
       "      <td>0</td>\n",
       "      <td>0</td>\n",
       "      <td>0</td>\n",
       "      <td>0</td>\n",
       "      <td>0</td>\n",
       "      <td>0</td>\n",
       "      <td>0</td>\n",
       "      <td>0</td>\n",
       "      <td>0</td>\n",
       "      <td>0</td>\n",
       "    </tr>\n",
       "    <tr>\n",
       "      <th>2</th>\n",
       "      <td>0</td>\n",
       "      <td>0</td>\n",
       "      <td>0</td>\n",
       "      <td>0</td>\n",
       "      <td>0</td>\n",
       "      <td>0</td>\n",
       "      <td>0</td>\n",
       "      <td>0</td>\n",
       "      <td>0</td>\n",
       "      <td>0</td>\n",
       "      <td>...</td>\n",
       "      <td>0</td>\n",
       "      <td>0</td>\n",
       "      <td>0</td>\n",
       "      <td>0</td>\n",
       "      <td>0</td>\n",
       "      <td>0</td>\n",
       "      <td>0</td>\n",
       "      <td>0</td>\n",
       "      <td>0</td>\n",
       "      <td>0</td>\n",
       "    </tr>\n",
       "    <tr>\n",
       "      <th>3</th>\n",
       "      <td>0</td>\n",
       "      <td>0</td>\n",
       "      <td>0</td>\n",
       "      <td>0</td>\n",
       "      <td>0</td>\n",
       "      <td>0</td>\n",
       "      <td>0</td>\n",
       "      <td>0</td>\n",
       "      <td>0</td>\n",
       "      <td>0</td>\n",
       "      <td>...</td>\n",
       "      <td>0</td>\n",
       "      <td>0</td>\n",
       "      <td>0</td>\n",
       "      <td>0</td>\n",
       "      <td>0</td>\n",
       "      <td>0</td>\n",
       "      <td>0</td>\n",
       "      <td>0</td>\n",
       "      <td>0</td>\n",
       "      <td>0</td>\n",
       "    </tr>\n",
       "    <tr>\n",
       "      <th>4</th>\n",
       "      <td>0</td>\n",
       "      <td>0</td>\n",
       "      <td>0</td>\n",
       "      <td>0</td>\n",
       "      <td>0</td>\n",
       "      <td>0</td>\n",
       "      <td>0</td>\n",
       "      <td>0</td>\n",
       "      <td>0</td>\n",
       "      <td>0</td>\n",
       "      <td>...</td>\n",
       "      <td>0</td>\n",
       "      <td>0</td>\n",
       "      <td>0</td>\n",
       "      <td>0</td>\n",
       "      <td>0</td>\n",
       "      <td>0</td>\n",
       "      <td>0</td>\n",
       "      <td>0</td>\n",
       "      <td>0</td>\n",
       "      <td>0</td>\n",
       "    </tr>\n",
       "  </tbody>\n",
       "</table>\n",
       "<p>5 rows × 18081 columns</p>\n",
       "</div>"
      ],
      "text/plain": [
       "   ______  _______________  _c  aa  aaa  aaaamazing  aaammmazzing  aaron  ab  \\\n",
       "0       0                0   0   0    0           0             0      0   0   \n",
       "1       0                0   0   0    0           0             0      0   0   \n",
       "2       0                0   0   0    0           0             0      0   0   \n",
       "3       0                0   0   0    0           0             0      0   0   \n",
       "4       0                0   0   0    0           0             0      0   0   \n",
       "\n",
       "   abandoned  ...  zucca  zucchini  zuchinni  zumba  zupa  zuzu  \\\n",
       "0          0  ...      0         0         0      0     0     0   \n",
       "1          0  ...      0         0         0      0     0     0   \n",
       "2          0  ...      0         0         0      0     0     0   \n",
       "3          0  ...      0         0         0      0     0     0   \n",
       "4          0  ...      0         0         0      0     0     0   \n",
       "\n",
       "   zwiebelkräuter  éclairs  école  ém  \n",
       "0               0        0      0   0  \n",
       "1               0        0      0   0  \n",
       "2               0        0      0   0  \n",
       "3               0        0      0   0  \n",
       "4               0        0      0   0  \n",
       "\n",
       "[5 rows x 18081 columns]"
      ]
     },
     "execution_count": 47,
     "metadata": {},
     "output_type": "execute_result"
    }
   ],
   "source": [
    "tf=pd.DataFrame(x_train_dtm.toarray(),columns=vect.get_feature_names_out())\n",
    "tf.head()"
   ]
  },
  {
   "cell_type": "code",
   "execution_count": 49,
   "id": "58b80995",
   "metadata": {},
   "outputs": [
    {
     "data": {
      "text/plain": [
       "(3064, 171153)"
      ]
     },
     "execution_count": 49,
     "metadata": {},
     "output_type": "execute_result"
    }
   ],
   "source": [
    "vect=CountVectorizer(ngram_range=(1,2))\n",
    "#bir kelimenin önce başına sonra sonuna bakıyor, sonra iki kelime önüne iki kelime arkasına\n",
    "x_train_dtm=vect.fit_transform(x_train)\n",
    "x_train_dtm.shape # sutun sayisi 18k dan 170k ya geldi"
   ]
  },
  {
   "cell_type": "code",
   "execution_count": 50,
   "id": "33a460d3",
   "metadata": {},
   "outputs": [
    {
     "name": "stdout",
     "output_type": "stream",
     "text": [
      "['zone' 'zone of' 'zone out' 'zone when' 'zones' 'zones dolls' 'zoning'\n",
      " 'zoning issues' 'zoo' 'zoo and' 'zoo is' 'zoo ive' 'zoo not' 'zoo the'\n",
      " 'zoyo' 'zoyo for' 'zucca' 'zucca appetizer' 'zucchini' 'zucchini and'\n",
      " 'zucchini bread' 'zucchini broccoli' 'zucchini carrots' 'zucchini fries'\n",
      " 'zucchini pieces' 'zucchini strips' 'zucchini veal' 'zucchini very'\n",
      " 'zucchini with' 'zuchinni' 'zuchinni again' 'zuchinni the' 'zumba'\n",
      " 'zumba class' 'zumba or' 'zumba yogalates' 'zupa' 'zupa flavors' 'zuzu'\n",
      " 'zuzu in' 'zuzu is' 'zuzu the' 'zwiebelkräuter' 'zwiebelkräuter salat'\n",
      " 'éclairs' 'éclairs napoleons' 'école' 'école lenôtre' 'ém' 'ém all']\n"
     ]
    }
   ],
   "source": [
    "print(vect.get_feature_names_out()[-50:])"
   ]
  },
  {
   "cell_type": "markdown",
   "id": "7a16c0a4",
   "metadata": {},
   "source": [
    "## Predict the star rating"
   ]
  },
  {
   "cell_type": "code",
   "execution_count": 51,
   "id": "036f7023",
   "metadata": {},
   "outputs": [
    {
     "name": "stdout",
     "output_type": "stream",
     "text": [
      "0.9168297455968689\n"
     ]
    }
   ],
   "source": [
    "vect= CountVectorizer()\n",
    "x_train_dtm=vect.fit_transform(x_train)\n",
    "x_test_dtm=vect.transform(x_test) # !!! burada sadece transform kullaniyor anladin nedenini\n",
    "# fit(): is used to generate learning model parameters from training data\n",
    "# transform() : parameters generated from fit() method, applied upon model to\n",
    "# generate transformed data set\n",
    "# fit_transform() : combibes fit() and transform() api on same data sets\n",
    "\n",
    "# Naive Bayes\n",
    "nb=MultinomialNB()\n",
    "nb.fit(x_train_dtm,y_train)\n",
    "y_pred_class=nb.predict(x_test_dtm)\n",
    "\n",
    "print(metrics.accuracy_score(y_test,y_pred_class)) # wow"
   ]
  },
  {
   "cell_type": "code",
   "execution_count": 81,
   "id": "5402a7c2",
   "metadata": {},
   "outputs": [
    {
     "name": "stdout",
     "output_type": "stream",
     "text": [
      "0.8199608610567515\n"
     ]
    }
   ],
   "source": [
    "tfidf_vect= TfidfVectorizer()\n",
    "x_train_dtm=tfidf_vect.fit_transform(x_train)\n",
    "x_test_dtm=tfidf_vect.transform(x_test) \n",
    "\n",
    "# Naive Bayes\n",
    "nb=MultinomialNB()\n",
    "nb.fit(x_train_dtm,y_train)\n",
    "y_pred_class=nb.predict(x_test_dtm)\n",
    "\n",
    "print(metrics.accuracy_score(y_test,y_pred_class))"
   ]
  },
  {
   "cell_type": "markdown",
   "id": "73735992",
   "metadata": {},
   "source": [
    "### Calculate null accuary"
   ]
  },
  {
   "cell_type": "code",
   "execution_count": 52,
   "id": "1933abdd",
   "metadata": {},
   "outputs": [],
   "source": [
    "# n gram değiştikçe ne olur\n",
    "def tokenize_test(vect): # fonksiyon input olarak fonksiyon aliyor\n",
    "    x_train_dtm=vect.fit_transform(x_train)\n",
    "    print(\"Features:\",x_train_dtm.shape[1])\n",
    "    x_test_dtm=vect.transform(x_test) \n",
    "\n",
    "    nb=MultinomialNB()\n",
    "    nb.fit(x_train_dtm,y_train)\n",
    "    y_pred_class=nb.predict(x_test_dtm)\n",
    "\n",
    "    print(\"Accuary:\",metrics.accuracy_score(y_test,y_pred_class))"
   ]
  },
  {
   "cell_type": "code",
   "execution_count": 83,
   "id": "58e2f73b",
   "metadata": {},
   "outputs": [
    {
     "name": "stdout",
     "output_type": "stream",
     "text": [
      "Features: 18379\n",
      "Accuary: 0.9168297455968689\n"
     ]
    }
   ],
   "source": [
    "vect=CountVectorizer()\n",
    "tokenize_test(vect)"
   ]
  },
  {
   "cell_type": "code",
   "execution_count": 82,
   "id": "c7c5e749",
   "metadata": {},
   "outputs": [
    {
     "name": "stdout",
     "output_type": "stream",
     "text": [
      "Features: 18379\n",
      "Accuary: 0.8199608610567515\n"
     ]
    }
   ],
   "source": [
    "tfidf_vect=TfidfVectorizer()\n",
    "tokenize_test(tfidf_vect)"
   ]
  },
  {
   "cell_type": "code",
   "execution_count": 54,
   "id": "6ff8bb9c",
   "metadata": {},
   "outputs": [
    {
     "name": "stdout",
     "output_type": "stream",
     "text": [
      "Features: 171153\n",
      "Accuary: 0.8522504892367906\n"
     ]
    }
   ],
   "source": [
    "# include 1-grams and 2-grams\n",
    "vect=CountVectorizer(ngram_range=(1,2))\n",
    "tokenize_test(vect)"
   ]
  },
  {
   "cell_type": "code",
   "execution_count": 84,
   "id": "42ed2b97",
   "metadata": {},
   "outputs": [
    {
     "name": "stdout",
     "output_type": "stream",
     "text": [
      "Features: 171153\n",
      "Accuary: 0.8199608610567515\n"
     ]
    }
   ],
   "source": [
    "tfidf_vect=TfidfVectorizer(ngram_range=(1,2)) # count daha iyi gibi\n",
    "tokenize_test(tfidf_vect)"
   ]
  },
  {
   "cell_type": "markdown",
   "id": "97904631",
   "metadata": {},
   "source": [
    "### Stopword Removal"
   ]
  },
  {
   "cell_type": "code",
   "execution_count": 56,
   "id": "feaf8d91",
   "metadata": {},
   "outputs": [
    {
     "name": "stdout",
     "output_type": "stream",
     "text": [
      "Features: 18081\n",
      "Accuary: 0.9168297455968689\n"
     ]
    }
   ],
   "source": [
    "vect=CountVectorizer(stop_words=\"english\")\n",
    "# ingilizcedeki gereksiz kelimeleri çıkarma\n",
    "tokenize_test(vect) "
   ]
  },
  {
   "cell_type": "code",
   "execution_count": 57,
   "id": "17106652",
   "metadata": {},
   "outputs": [
    {
     "name": "stdout",
     "output_type": "stream",
     "text": [
      "Features: 100\n",
      "Accuary: 0.8776908023483366\n"
     ]
    }
   ],
   "source": [
    "vect=CountVectorizer(stop_words=\"english\",max_features=100)\n",
    "tokenize_test(vect)"
   ]
  },
  {
   "cell_type": "code",
   "execution_count": 58,
   "id": "57d2ae83",
   "metadata": {},
   "outputs": [
    {
     "name": "stdout",
     "output_type": "stream",
     "text": [
      "['amazing' 'area' 'atmosphere' 'awesome' 'bad' 'bar' 'best' 'better' 'big'\n",
      " 'bread' 'came' 'cheese' 'chicken' 'clean' 'come' 'day' 'definitely'\n",
      " 'delicious' 'did' 'didnt' 'dinner' 'dont' 'eat' 'excellent' 'experience'\n",
      " 'favorite' 'feel' 'food' 'fresh' 'friendly' 'friends' 'going' 'good'\n",
      " 'got' 'great' 'happy' 'home' 'hot' 'hour' 'im' 'ive' 'just' 'know' 'like'\n",
      " 'little' 'location' 'long' 'looking' 'lot' 'love' 'lunch' 'make' 'meal'\n",
      " 'menu' 'minutes' 'need' 'new' 'nice' 'night' 'order' 'ordered' 'people'\n",
      " 'perfect' 'phoenix' 'pizza' 'place' 'pretty' 'prices' 'really'\n",
      " 'recommend' 'restaurant' 'right' 'said' 'salad' 'sandwich' 'sauce' 'say'\n",
      " 'service' 'staff' 'store' 'sure' 'table' 'thing' 'things' 'think' 'time'\n",
      " 'times' 'told' 'took' 'tried' 'try' 'wait' 'want' 'way' 'went' 'wine'\n",
      " 'work' 'worth' 'years' 'youre']\n"
     ]
    }
   ],
   "source": [
    "print(vect.get_feature_names_out())"
   ]
  },
  {
   "cell_type": "code",
   "execution_count": 59,
   "id": "0aa992d1",
   "metadata": {},
   "outputs": [
    {
     "name": "stdout",
     "output_type": "stream",
     "text": [
      "frozenset({'will', 'one', 'back', 'anyway', 'whatever', 'side', 'towards', 'therefore', 'was', 'hereby', 'meanwhile', 'therein', 'serious', 'every', 'else', 'how', 'beyond', 'fifteen', 'under', 'see', 'cry', 'nobody', 'into', 'above', 'about', 'i', 'each', 'however', 'became', 'cannot', 'even', 'indeed', 'next', 'forty', 'she', 'on', 'further', 'this', 'or', 'interest', 'due', 'couldnt', 'more', 'my', 'him', 'is', 'of', 'whither', 'alone', 'ours', 'and', 'most', 'now', 'either', 'show', 'any', 'none', 'wherein', 'again', 'we', 'around', 'still', 'thereafter', 'whose', 'moreover', 'very', 'move', 'before', 'too', 'amount', 'fill', 'ie', 'hereupon', 'bill', 'con', 'down', 'somewhere', 'might', 'seemed', 'what', 'made', 'up', 'been', 'least', 'anywhere', 'nine', 'whereafter', 'whole', 'seem', 'thin', 'whereupon', 'can', 'some', 'six', 'wherever', 'top', 'until', 'also', 'amoungst', 'not', 'un', 'empty', 'her', 'name', 'thence', 'with', 'without', 'himself', 'many', 'while', 'than', 'that', 'thick', 'found', 'whence', 'beside', 'be', 'sincere', 'herself', 'onto', 'own', 'your', 'across', 'detail', 'yourself', 'find', 'along', 'get', 'to', 'among', 'whereby', 'anything', 'besides', 'those', 'who', 'keep', 'off', 'at', 'once', 'twenty', 'his', 'latter', 'when', 'yours', 'almost', 'through', 'never', 'behind', 'perhaps', 'etc', 'ever', 'another', 'everyone', 'hence', 'neither', 'go', 'thus', 'everywhere', 'several', 'same', 'someone', 'nothing', 'nevertheless', 'yourselves', 'nowhere', 'within', 'take', 'they', 'last', 'only', 'seems', 'except', 'their', 'are', 'in', 'please', 'others', 'latterly', 'namely', 'over', 'together', 'whenever', 'anyhow', 'hundred', 'from', 'so', 'there', 'twelve', 'full', 'after', 'do', 'may', 'by', 'have', 'three', 'amongst', 'though', 'de', 'thereupon', 'being', 'as', 'whereas', 'whoever', 'these', 'sometimes', 'fifty', 'ltd', 'otherwise', 'an', 'out', 'front', 'for', 'both', 'yet', 'elsewhere', 'whom', 'bottom', 'then', 'if', 'during', 'had', 'thereby', 'them', 'its', 'should', 'per', 'four', 'here', 'must', 'much', 'noone', 'well', 'always', 'part', 'where', 'formerly', 'could', 'below', 'give', 'sometime', 'become', 'describe', 'done', 'call', 'am', 'hers', 'less', 'mine', 'the', 'already', 'it', 'other', 'toward', 'beforehand', 'rather', 'us', 'nor', 'all', 'no', 'sixty', 'fire', 'becomes', 'afterwards', 'anyone', 'me', 'which', 'becoming', 'something', 'but', 'two', 'such', 'third', 'between', 'former', 'via', 'a', 'throughout', 'somehow', 'upon', 'system', 'ten', 'since', 'eight', 'has', 're', 'seeming', 'you', 'first', 'eleven', 'because', 'five', 'would', 'itself', 'herein', 'were', 'often', 'why', 'ourselves', 'mostly', 'few', 'he', 'whether', 'hasnt', 'themselves', 'myself', 'enough', 'everything', 'put', 'mill', 'although', 'co', 'hereafter', 'eg', 'inc', 'thru', 'against', 'cant', 'our'})\n"
     ]
    }
   ],
   "source": [
    "print(vect.get_stop_words())"
   ]
  },
  {
   "cell_type": "code",
   "execution_count": 60,
   "id": "b8386562",
   "metadata": {},
   "outputs": [
    {
     "name": "stdout",
     "output_type": "stream",
     "text": [
      "Features: 43256\n",
      "Accuary: 0.9305283757338552\n"
     ]
    }
   ],
   "source": [
    "vect=CountVectorizer(ngram_range=(1,2),min_df=2)\n",
    "# min 2 harf olacak\n",
    "tokenize_test(vect)"
   ]
  },
  {
   "cell_type": "markdown",
   "id": "c738c313",
   "metadata": {},
   "source": [
    "## TextBlob"
   ]
  },
  {
   "cell_type": "code",
   "execution_count": 77,
   "id": "80f89546",
   "metadata": {},
   "outputs": [
    {
     "name": "stdout",
     "output_type": "stream",
     "text": [
      "my wife took me here on my birthday for breakfast and it was excellent  the weather was perfect which made sitting outside overlooking their grounds an absolute pleasure  our waitress was excellent and our food arrived quickly on the semibusy saturday morning  it looked like the place fills up pretty quickly so the earlier you get here the better  do yourself a favor and get their bloody mary  it was phenomenal and simply the best ive ever had  im pretty sure they only use ingredients from their garden and blend them fresh when you order it  it was amazing  while everything on the menu looks excellent i had the white truffle scrambled eggs vegetable skillet and it was tasty and delicious  it came with  pieces of their griddled bread with was amazing and it absolutely made the meal complete  it was the best toast ive ever had  anyway i cant wait to go back\n"
     ]
    }
   ],
   "source": [
    "print(yelp_best_worst.text[0])"
   ]
  },
  {
   "cell_type": "code",
   "execution_count": 62,
   "id": "a5083528",
   "metadata": {},
   "outputs": [],
   "source": [
    "review=TextBlob(yelp_best_worst.text[0])"
   ]
  },
  {
   "cell_type": "code",
   "execution_count": 63,
   "id": "4bec22b1",
   "metadata": {},
   "outputs": [
    {
     "data": {
      "text/plain": [
       "WordList(['my', 'wife', 'took', 'me', 'here', 'on', 'my', 'birthday', 'for', 'breakfast', 'and', 'it', 'was', 'excellent', 'the', 'weather', 'was', 'perfect', 'which', 'made', 'sitting', 'outside', 'overlooking', 'their', 'grounds', 'an', 'absolute', 'pleasure', 'our', 'waitress', 'was', 'excellent', 'and', 'our', 'food', 'arrived', 'quickly', 'on', 'the', 'semibusy', 'saturday', 'morning', 'it', 'looked', 'like', 'the', 'place', 'fills', 'up', 'pretty', 'quickly', 'so', 'the', 'earlier', 'you', 'get', 'here', 'the', 'better', 'do', 'yourself', 'a', 'favor', 'and', 'get', 'their', 'bloody', 'mary', 'it', 'was', 'phenomenal', 'and', 'simply', 'the', 'best', 'ive', 'ever', 'had', 'im', 'pretty', 'sure', 'they', 'only', 'use', 'ingredients', 'from', 'their', 'garden', 'and', 'blend', 'them', 'fresh', 'when', 'you', 'order', 'it', 'it', 'was', 'amazing', 'while', 'everything', 'on', 'the', 'menu', 'looks', 'excellent', 'i', 'had', 'the', 'white', 'truffle', 'scrambled', 'eggs', 'vegetable', 'skillet', 'and', 'it', 'was', 'tasty', 'and', 'delicious', 'it', 'came', 'with', 'pieces', 'of', 'their', 'griddled', 'bread', 'with', 'was', 'amazing', 'and', 'it', 'absolutely', 'made', 'the', 'meal', 'complete', 'it', 'was', 'the', 'best', 'toast', 'ive', 'ever', 'had', 'anyway', 'i', 'cant', 'wait', 'to', 'go', 'back'])"
      ]
     },
     "execution_count": 63,
     "metadata": {},
     "output_type": "execute_result"
    }
   ],
   "source": [
    "review.words"
   ]
  },
  {
   "cell_type": "code",
   "execution_count": 64,
   "id": "02aad786",
   "metadata": {},
   "outputs": [
    {
     "data": {
      "text/plain": [
       "[Sentence(\"my wife took me here on my birthday for breakfast and it was excellent  the weather was perfect which made sitting outside overlooking their grounds an absolute pleasure  our waitress was excellent and our food arrived quickly on the semibusy saturday morning  it looked like the place fills up pretty quickly so the earlier you get here the better  do yourself a favor and get their bloody mary  it was phenomenal and simply the best ive ever had  im pretty sure they only use ingredients from their garden and blend them fresh when you order it  it was amazing  while everything on the menu looks excellent i had the white truffle scrambled eggs vegetable skillet and it was tasty and delicious  it came with  pieces of their griddled bread with was amazing and it absolutely made the meal complete  it was the best toast ive ever had  anyway i cant wait to go back\")]"
      ]
     },
     "execution_count": 64,
     "metadata": {},
     "output_type": "execute_result"
    }
   ],
   "source": [
    "review.sentences"
   ]
  },
  {
   "cell_type": "code",
   "execution_count": 65,
   "id": "803ed579",
   "metadata": {},
   "outputs": [
    {
     "data": {
      "text/plain": [
       "TextBlob(\"my wife took me here on my birthday for breakfast and it was excellent  the weather was perfect which made sitting outside overlooking their grounds an absolute pleasure  our waitress was excellent and our food arrived quickly on the semibusy saturday morning  it looked like the place fills up pretty quickly so the earlier you get here the better  do yourself a favor and get their bloody mary  it was phenomenal and simply the best ive ever had  im pretty sure they only use ingredients from their garden and blend them fresh when you order it  it was amazing  while everything on the menu looks excellent i had the white truffle scrambled eggs vegetable skillet and it was tasty and delicious  it came with  pieces of their griddled bread with was amazing and it absolutely made the meal complete  it was the best toast ive ever had  anyway i cant wait to go back\")"
      ]
     },
     "execution_count": 65,
     "metadata": {},
     "output_type": "execute_result"
    }
   ],
   "source": [
    "review.lower()"
   ]
  },
  {
   "cell_type": "markdown",
   "id": "5fe22b4d",
   "metadata": {},
   "source": [
    "  ## Stemmer and Lemmatization"
   ]
  },
  {
   "cell_type": "code",
   "execution_count": 66,
   "id": "535c7c2c",
   "metadata": {},
   "outputs": [
    {
     "name": "stdout",
     "output_type": "stream",
     "text": [
      "['my', 'wife', 'took', 'me', 'here', 'on', 'my', 'birthday', 'for', 'breakfast', 'and', 'it', 'was', 'excel', 'the', 'weather', 'was', 'perfect', 'which', 'made', 'sit', 'outsid', 'overlook', 'their', 'ground', 'an', 'absolut', 'pleasur', 'our', 'waitress', 'was', 'excel', 'and', 'our', 'food', 'arriv', 'quick', 'on', 'the', 'semibusi', 'saturday', 'morn', 'it', 'look', 'like', 'the', 'place', 'fill', 'up', 'pretti', 'quick', 'so', 'the', 'earlier', 'you', 'get', 'here', 'the', 'better', 'do', 'yourself', 'a', 'favor', 'and', 'get', 'their', 'bloodi', 'mari', 'it', 'was', 'phenomen', 'and', 'simpli', 'the', 'best', 'ive', 'ever', 'had', 'im', 'pretti', 'sure', 'they', 'onli', 'use', 'ingredi', 'from', 'their', 'garden', 'and', 'blend', 'them', 'fresh', 'when', 'you', 'order', 'it', 'it', 'was', 'amaz', 'while', 'everyth', 'on', 'the', 'menu', 'look', 'excel', 'i', 'had', 'the', 'white', 'truffl', 'scrambl', 'egg', 'veget', 'skillet', 'and', 'it', 'was', 'tasti', 'and', 'delici', 'it', 'came', 'with', 'piec', 'of', 'their', 'griddl', 'bread', 'with', 'was', 'amaz', 'and', 'it', 'absolut', 'made', 'the', 'meal', 'complet', 'it', 'was', 'the', 'best', 'toast', 'ive', 'ever', 'had', 'anyway', 'i', 'cant', 'wait', 'to', 'go', 'back']\n"
     ]
    }
   ],
   "source": [
    "stemmer=SnowballStemmer(\"english\")\n",
    "print([stemmer.stem(word)for word in review.words]\n",
    "#Eklerinden ayırmak için"
   ]
  },
  {
   "cell_type": "code",
   "execution_count": 67,
   "id": "167ca0f2",
   "metadata": {},
   "outputs": [
    {
     "name": "stdout",
     "output_type": "stream",
     "text": [
      "['my', 'wife', 'took', 'me', 'here', 'on', 'my', 'birthday', 'for', 'breakfast', 'and', 'it', 'wa', 'excellent', 'the', 'weather', 'wa', 'perfect', 'which', 'made', 'sitting', 'outside', 'overlooking', 'their', 'ground', 'an', 'absolute', 'pleasure', 'our', 'waitress', 'wa', 'excellent', 'and', 'our', 'food', 'arrived', 'quickly', 'on', 'the', 'semibusy', 'saturday', 'morning', 'it', 'looked', 'like', 'the', 'place', 'fill', 'up', 'pretty', 'quickly', 'so', 'the', 'earlier', 'you', 'get', 'here', 'the', 'better', 'do', 'yourself', 'a', 'favor', 'and', 'get', 'their', 'bloody', 'mary', 'it', 'wa', 'phenomenal', 'and', 'simply', 'the', 'best', 'ive', 'ever', 'had', 'im', 'pretty', 'sure', 'they', 'only', 'use', 'ingredient', 'from', 'their', 'garden', 'and', 'blend', 'them', 'fresh', 'when', 'you', 'order', 'it', 'it', 'wa', 'amazing', 'while', 'everything', 'on', 'the', 'menu', 'look', 'excellent', 'i', 'had', 'the', 'white', 'truffle', 'scrambled', 'egg', 'vegetable', 'skillet', 'and', 'it', 'wa', 'tasty', 'and', 'delicious', 'it', 'came', 'with', 'piece', 'of', 'their', 'griddled', 'bread', 'with', 'wa', 'amazing', 'and', 'it', 'absolutely', 'made', 'the', 'meal', 'complete', 'it', 'wa', 'the', 'best', 'toast', 'ive', 'ever', 'had', 'anyway', 'i', 'cant', 'wait', 'to', 'go', 'back']\n"
     ]
    }
   ],
   "source": [
    "print([word.lemmatize()for word in review.words])"
   ]
  },
  {
   "cell_type": "code",
   "execution_count": 68,
   "id": "03a8ab77",
   "metadata": {},
   "outputs": [
    {
     "name": "stdout",
     "output_type": "stream",
     "text": [
      "['my', 'wife', 'take', 'me', 'here', 'on', 'my', 'birthday', 'for', 'breakfast', 'and', 'it', 'be', 'excellent', 'the', 'weather', 'be', 'perfect', 'which', 'make', 'sit', 'outside', 'overlook', 'their', 'ground', 'an', 'absolute', 'pleasure', 'our', 'waitress', 'be', 'excellent', 'and', 'our', 'food', 'arrive', 'quickly', 'on', 'the', 'semibusy', 'saturday', 'morning', 'it', 'look', 'like', 'the', 'place', 'fill', 'up', 'pretty', 'quickly', 'so', 'the', 'earlier', 'you', 'get', 'here', 'the', 'better', 'do', 'yourself', 'a', 'favor', 'and', 'get', 'their', 'bloody', 'mary', 'it', 'be', 'phenomenal', 'and', 'simply', 'the', 'best', 'ive', 'ever', 'have', 'im', 'pretty', 'sure', 'they', 'only', 'use', 'ingredients', 'from', 'their', 'garden', 'and', 'blend', 'them', 'fresh', 'when', 'you', 'order', 'it', 'it', 'be', 'amaze', 'while', 'everything', 'on', 'the', 'menu', 'look', 'excellent', 'i', 'have', 'the', 'white', 'truffle', 'scramble', 'egg', 'vegetable', 'skillet', 'and', 'it', 'be', 'tasty', 'and', 'delicious', 'it', 'come', 'with', 'piece', 'of', 'their', 'griddle', 'bread', 'with', 'be', 'amaze', 'and', 'it', 'absolutely', 'make', 'the', 'meal', 'complete', 'it', 'be', 'the', 'best', 'toast', 'ive', 'ever', 'have', 'anyway', 'i', 'cant', 'wait', 'to', 'go', 'back']\n"
     ]
    }
   ],
   "source": [
    "print([word.lemmatize(pos=\"v\")for word in review.words])\n",
    "#position=verb\n",
    "#yani bütün kelimeleri filll farz ediyoruz"
   ]
  },
  {
   "cell_type": "code",
   "execution_count": 69,
   "id": "fdd1bf6d",
   "metadata": {},
   "outputs": [],
   "source": [
    "def split_into_lemmas(text):\n",
    "    text=str(text).lower()\n",
    "    \n",
    "    words=TextBlob(text).words\n",
    "    return [stemmer.stem(word)for word in words]"
   ]
  },
  {
   "cell_type": "code",
   "execution_count": 80,
   "id": "72a3201a",
   "metadata": {},
   "outputs": [
    {
     "name": "stdout",
     "output_type": "stream",
     "text": [
      "Features: 13313\n",
      "Accuary: 0.9275929549902152\n"
     ]
    }
   ],
   "source": [
    "vect=CountVectorizer(analyzer=split_into_lemmas)\n",
    "tokenize_test(vect)"
   ]
  },
  {
   "cell_type": "markdown",
   "id": "37bf01ad",
   "metadata": {},
   "source": [
    "## TF-IDF to summarize a Yelp review"
   ]
  },
  {
   "cell_type": "code",
   "execution_count": 71,
   "id": "228b8948",
   "metadata": {},
   "outputs": [
    {
     "data": {
      "text/plain": [
       "(10000, 34834)"
      ]
     },
     "execution_count": 71,
     "metadata": {},
     "output_type": "execute_result"
    }
   ],
   "source": [
    "# create a document-term matrix using TF-IDF\n",
    "vect=TfidfVectorizer(stop_words=\"english\")\n",
    "dtm=vect.fit_transform(yelp.text)\n",
    "features=vect.get_feature_names_out()\n",
    "dtm.shape"
   ]
  },
  {
   "cell_type": "code",
   "execution_count": 72,
   "id": "b4bd94af",
   "metadata": {},
   "outputs": [
    {
     "data": {
      "text/plain": [
       "['______',\n",
       " '_______',\n",
       " '_______________',\n",
       " '____bertos',\n",
       " '_accommodating',\n",
       " '_affordable',\n",
       " '_c',\n",
       " '_finally_',\n",
       " '_reasonable',\n",
       " '_she',\n",
       " '_third_',\n",
       " '_us_',\n",
       " '_very',\n",
       " 'aa',\n",
       " 'aaa',\n",
       " 'aaaaaalright',\n",
       " 'aaaamazing',\n",
       " 'aaammmazzing',\n",
       " 'aaand',\n",
       " 'aah',\n",
       " 'aand',\n",
       " 'aaron',\n",
       " 'aarons',\n",
       " 'aarp',\n",
       " 'ab',\n",
       " 'aback',\n",
       " 'abacus',\n",
       " 'abandon',\n",
       " 'abandoned',\n",
       " 'abandoning',\n",
       " 'abbaye',\n",
       " 'abbazabba',\n",
       " 'abbey',\n",
       " 'abbreviate',\n",
       " 'abbreviated',\n",
       " 'abbreviations',\n",
       " 'abby',\n",
       " 'abc',\n",
       " 'abdomen',\n",
       " 'abe',\n",
       " 'aberration',\n",
       " 'abfab',\n",
       " 'abhor',\n",
       " 'abides',\n",
       " 'abiding',\n",
       " 'abilities',\n",
       " 'ability',\n",
       " 'abilty',\n",
       " 'abita',\n",
       " 'able',\n",
       " 'abnormally',\n",
       " 'abode',\n",
       " 'abodoba',\n",
       " 'abogado',\n",
       " 'abou',\n",
       " 'abound',\n",
       " 'aboutchicken',\n",
       " 'abouti',\n",
       " 'aboutmaybe',\n",
       " 'aboutseriously',\n",
       " 'aboveaverage',\n",
       " 'abovehaving',\n",
       " 'abrasion',\n",
       " 'abrasive',\n",
       " 'abreast',\n",
       " 'abridged',\n",
       " 'abroad',\n",
       " 'abrupt',\n",
       " 'abruptly',\n",
       " 'abs',\n",
       " 'absence',\n",
       " 'absense',\n",
       " 'absent',\n",
       " 'absinthe',\n",
       " 'abslutely',\n",
       " 'absoloutely',\n",
       " 'absolut',\n",
       " 'absolute',\n",
       " 'absolutely',\n",
       " 'absolutley',\n",
       " 'absolutly',\n",
       " 'absorb',\n",
       " 'absorbed',\n",
       " 'absorption',\n",
       " 'abstain',\n",
       " 'abstained',\n",
       " 'abstract',\n",
       " 'absurd',\n",
       " 'absurdly',\n",
       " 'absynthe',\n",
       " 'abt',\n",
       " 'abuelita',\n",
       " 'abuelo',\n",
       " 'abuelos',\n",
       " 'abuelosit',\n",
       " 'abundance',\n",
       " 'abundant',\n",
       " 'abundantly',\n",
       " 'abuse',\n",
       " 'abused',\n",
       " 'abusive',\n",
       " 'abysmal',\n",
       " 'ac',\n",
       " 'acacia',\n",
       " 'academy',\n",
       " 'acadia',\n",
       " 'acai',\n",
       " 'acapulco',\n",
       " 'accelerometertype',\n",
       " 'accent',\n",
       " 'accented',\n",
       " 'accents',\n",
       " 'accept',\n",
       " 'acceptable',\n",
       " 'accepted',\n",
       " 'accepting',\n",
       " 'accepts',\n",
       " 'accesible',\n",
       " 'accesories',\n",
       " 'access',\n",
       " 'accessbile',\n",
       " 'accessed',\n",
       " 'accessibility',\n",
       " 'accessible',\n",
       " 'accessibly',\n",
       " 'accessories',\n",
       " 'accessorize',\n",
       " 'accessory',\n",
       " 'accident',\n",
       " 'accidental',\n",
       " 'accidentally',\n",
       " 'accidentily',\n",
       " 'accidently',\n",
       " 'accidents',\n",
       " 'acclaimed',\n",
       " 'acclimated',\n",
       " 'acclimating',\n",
       " 'accolades',\n",
       " 'accomidating',\n",
       " 'accommodate',\n",
       " 'accommodated',\n",
       " 'accommodates',\n",
       " 'accommodating',\n",
       " 'accommodation',\n",
       " 'accommodations',\n",
       " 'accomodate',\n",
       " 'accomodated',\n",
       " 'accomodates',\n",
       " 'accomodating',\n",
       " 'accomodation',\n",
       " 'accomodations',\n",
       " 'accompanied',\n",
       " 'accompanies',\n",
       " 'accompaniment',\n",
       " 'accompaniments',\n",
       " 'accompany',\n",
       " 'accompanying',\n",
       " 'accomplice',\n",
       " 'accomplish',\n",
       " 'accomplished',\n",
       " 'accomplishment',\n",
       " 'accomplishments',\n",
       " 'according',\n",
       " 'accordingly',\n",
       " 'account',\n",
       " 'accountability',\n",
       " 'accountable',\n",
       " 'accountant',\n",
       " 'accounting',\n",
       " 'accounts',\n",
       " 'accoutrement',\n",
       " 'accoutrements',\n",
       " 'accredited',\n",
       " 'accross',\n",
       " 'accumulate',\n",
       " 'accumulated',\n",
       " 'accuracy',\n",
       " 'accurate',\n",
       " 'accurately',\n",
       " 'accusation',\n",
       " 'accused',\n",
       " 'accustom',\n",
       " 'accustomed',\n",
       " 'accutemp',\n",
       " 'ace',\n",
       " 'aces',\n",
       " 'acess',\n",
       " 'acetone',\n",
       " 'ache',\n",
       " 'acheat',\n",
       " 'aches',\n",
       " 'achieve',\n",
       " 'achieved',\n",
       " 'achievement',\n",
       " 'achieves',\n",
       " 'achieving',\n",
       " 'aching',\n",
       " 'acid',\n",
       " 'acidic',\n",
       " 'acis',\n",
       " 'acknowledge',\n",
       " 'acknowledged',\n",
       " 'acknowledgement',\n",
       " 'acknowledging',\n",
       " 'acknowledgment',\n",
       " 'ackward',\n",
       " 'acme',\n",
       " 'acne',\n",
       " 'acommodations',\n",
       " 'acoustic',\n",
       " 'acousticians',\n",
       " 'acoustics',\n",
       " 'acquaintance',\n",
       " 'acquaintence',\n",
       " 'acquire',\n",
       " 'acquired',\n",
       " 'acquisition',\n",
       " 'acres',\n",
       " 'acrid',\n",
       " 'acrylic',\n",
       " 'acrylics',\n",
       " 'act',\n",
       " 'actaully',\n",
       " 'acted',\n",
       " 'acting',\n",
       " 'action',\n",
       " 'actions',\n",
       " 'activation',\n",
       " 'active',\n",
       " 'activehealthy',\n",
       " 'actively',\n",
       " 'activism',\n",
       " 'activities',\n",
       " 'activitiessuch',\n",
       " 'activity',\n",
       " 'actor',\n",
       " 'actors',\n",
       " 'actress',\n",
       " 'acts',\n",
       " 'actual',\n",
       " 'actuality',\n",
       " 'actually',\n",
       " 'actualy',\n",
       " 'actuators',\n",
       " 'actully',\n",
       " 'acuity',\n",
       " 'acupuncturist',\n",
       " 'acute',\n",
       " 'acxupuncturist',\n",
       " 'acy',\n",
       " 'ad',\n",
       " 'ada',\n",
       " 'adage',\n",
       " 'adam',\n",
       " 'adamant',\n",
       " 'adams',\n",
       " 'adapted',\n",
       " 'adapter',\n",
       " 'adaptive',\n",
       " 'adaquate',\n",
       " 'adaquet',\n",
       " 'add',\n",
       " 'addage',\n",
       " 'addd',\n",
       " 'added',\n",
       " 'addendum',\n",
       " 'addict',\n",
       " 'addicted',\n",
       " 'addicti',\n",
       " 'addicting',\n",
       " 'addictingly',\n",
       " 'addiction',\n",
       " 'addictionand',\n",
       " 'addictions',\n",
       " 'addictive',\n",
       " 'addicts',\n",
       " 'addidas',\n",
       " 'adding',\n",
       " 'addins',\n",
       " 'addition',\n",
       " 'additional',\n",
       " 'additionally',\n",
       " 'additions',\n",
       " 'additive',\n",
       " 'additives',\n",
       " 'addon',\n",
       " 'addons',\n",
       " 'addperhaps',\n",
       " 'address',\n",
       " 'addressed',\n",
       " 'addresses',\n",
       " 'addressing',\n",
       " 'addressweb',\n",
       " 'adds',\n",
       " 'addtl',\n",
       " 'adelman',\n",
       " 'adequate',\n",
       " 'adequately',\n",
       " 'adequatelythey',\n",
       " 'adhere',\n",
       " 'adhered',\n",
       " 'adherence',\n",
       " 'adhesive',\n",
       " 'adhoc',\n",
       " 'adidas',\n",
       " 'adios',\n",
       " 'adjacent',\n",
       " 'adjective',\n",
       " 'adjectives',\n",
       " 'adjoining',\n",
       " 'adjunct',\n",
       " 'adjust',\n",
       " 'adjusted',\n",
       " 'adjusting',\n",
       " 'adjustment',\n",
       " 'adjustments',\n",
       " 'administration',\n",
       " 'administrative',\n",
       " 'administrators',\n",
       " 'admirable',\n",
       " 'admire',\n",
       " 'admired',\n",
       " 'admiring',\n",
       " 'admission',\n",
       " 'admissions',\n",
       " 'admissionseems',\n",
       " 'admit',\n",
       " 'admits',\n",
       " 'admitted',\n",
       " 'admittedly',\n",
       " 'admitting',\n",
       " 'admonishment',\n",
       " 'ado',\n",
       " 'adobada',\n",
       " 'adobe',\n",
       " 'adobo',\n",
       " 'adolescence',\n",
       " 'adolescent',\n",
       " 'adopt',\n",
       " 'adopted',\n",
       " 'adopting',\n",
       " 'adoption',\n",
       " 'adoptions',\n",
       " 'adorable',\n",
       " 'adorably',\n",
       " 'adorama',\n",
       " 'adoration',\n",
       " 'adore',\n",
       " 'adored',\n",
       " 'adores',\n",
       " 'adorn',\n",
       " 'adorned',\n",
       " 'adorning',\n",
       " 'adovada',\n",
       " 'adquate',\n",
       " 'adrenaline',\n",
       " 'adria',\n",
       " 'adrian',\n",
       " 'adriana',\n",
       " 'adrianne',\n",
       " 'adriatica',\n",
       " 'adrienne',\n",
       " 'ads',\n",
       " 'adult',\n",
       " 'adulthood',\n",
       " 'adults',\n",
       " 'advance',\n",
       " 'advanced',\n",
       " 'advancing',\n",
       " 'advantage',\n",
       " 'advantages',\n",
       " 'advent',\n",
       " 'adventure',\n",
       " 'adventurer',\n",
       " 'adventures',\n",
       " 'adventuresome',\n",
       " 'adventurous',\n",
       " 'adventurousness',\n",
       " 'adverse',\n",
       " 'adversity',\n",
       " 'advertise',\n",
       " 'advertised',\n",
       " 'advertisement',\n",
       " 'advertisements',\n",
       " 'advertises',\n",
       " 'advertising',\n",
       " 'advertisments',\n",
       " 'advertized',\n",
       " 'adverts',\n",
       " 'advice',\n",
       " 'advicedo',\n",
       " 'advise',\n",
       " 'advised',\n",
       " 'adviser',\n",
       " 'advising',\n",
       " 'advisor',\n",
       " 'advisors',\n",
       " 'advocate',\n",
       " 'advocated',\n",
       " 'ae',\n",
       " 'aea',\n",
       " 'aed',\n",
       " 'aeg',\n",
       " 'aegean',\n",
       " 'aerators',\n",
       " 'aerobic',\n",
       " 'aerobics',\n",
       " 'aeropostale',\n",
       " 'aeropress',\n",
       " 'aerosol',\n",
       " 'aesthetic',\n",
       " 'aesthetically',\n",
       " 'aesthetician',\n",
       " 'aestheticians',\n",
       " 'aesthetics',\n",
       " 'afar',\n",
       " 'affair',\n",
       " 'affect',\n",
       " 'affected',\n",
       " 'affectionately',\n",
       " 'affects',\n",
       " 'afficianados',\n",
       " 'afficienandos',\n",
       " 'affiliate',\n",
       " 'affiliated',\n",
       " 'affiliates',\n",
       " 'affiliation',\n",
       " 'affirming',\n",
       " 'affix',\n",
       " 'affliction',\n",
       " 'affluent',\n",
       " 'affogato',\n",
       " 'afforadable',\n",
       " 'afford',\n",
       " 'affordable',\n",
       " 'affordablypriced',\n",
       " 'affords',\n",
       " 'affront',\n",
       " 'aficionado',\n",
       " 'aficionados',\n",
       " 'afloat',\n",
       " 'aforementioned',\n",
       " 'afoul',\n",
       " 'afraid',\n",
       " 'africa',\n",
       " 'african',\n",
       " 'afront',\n",
       " 'afterall',\n",
       " 'afterallwho',\n",
       " 'afterbar',\n",
       " 'afterdark',\n",
       " 'afterglow',\n",
       " 'afterhours',\n",
       " 'afterit',\n",
       " 'afternoon',\n",
       " 'afternoonevening',\n",
       " 'afternoons',\n",
       " 'aftertaste',\n",
       " 'afterthought',\n",
       " 'afterward',\n",
       " 'afterwords',\n",
       " 'aftr',\n",
       " 'againbeans',\n",
       " 'againbut',\n",
       " 'againespecially',\n",
       " 'againhopefully',\n",
       " 'againjust',\n",
       " 'againmaybe',\n",
       " 'againno',\n",
       " 'againramiros',\n",
       " 'againreally',\n",
       " 'againsorryback',\n",
       " 'againstop',\n",
       " 'againthe',\n",
       " 'againthough',\n",
       " 'againyummmm',\n",
       " 'agape',\n",
       " 'agave',\n",
       " 'agaves',\n",
       " 'age',\n",
       " 'aged',\n",
       " 'agedashi',\n",
       " 'agemy',\n",
       " 'agency',\n",
       " 'agenda',\n",
       " 'agent',\n",
       " 'agents',\n",
       " 'ages',\n",
       " 'agescheers',\n",
       " 'aggravated',\n",
       " 'aggressive',\n",
       " 'aggressively',\n",
       " 'aging',\n",
       " 'agitated',\n",
       " 'ago',\n",
       " 'agonizing',\n",
       " 'agony',\n",
       " 'agoyet',\n",
       " 'agoyou',\n",
       " 'agree',\n",
       " 'agreeable',\n",
       " 'agreeably',\n",
       " 'agreed',\n",
       " 'agreeing',\n",
       " 'agreement',\n",
       " 'agrees',\n",
       " 'agritopia',\n",
       " 'agua',\n",
       " 'aguachile',\n",
       " 'aguas',\n",
       " 'aguila',\n",
       " 'agwa',\n",
       " 'ah',\n",
       " 'ahab',\n",
       " 'ahahah',\n",
       " 'ahead',\n",
       " 'ahem',\n",
       " 'ahh',\n",
       " 'ahha',\n",
       " 'ahhai',\n",
       " 'ahhem',\n",
       " 'ahhh',\n",
       " 'ahhhh',\n",
       " 'ahhhhh',\n",
       " 'ahhhhhh',\n",
       " 'ahhhhhmy',\n",
       " 'ahhhhs',\n",
       " 'ahhwuhtookey',\n",
       " 'ahi',\n",
       " 'ahia',\n",
       " 'ahing',\n",
       " 'ahkai',\n",
       " 'ahmazing',\n",
       " 'ahold',\n",
       " 'ahole',\n",
       " 'ahorita',\n",
       " 'ahso',\n",
       " 'ahve',\n",
       " 'ahwahtukee',\n",
       " 'ahwatukee',\n",
       " 'ahwatukees',\n",
       " 'ai',\n",
       " 'aia',\n",
       " 'aid',\n",
       " 'aide',\n",
       " 'aiding',\n",
       " 'aids',\n",
       " 'aiellos',\n",
       " 'aight',\n",
       " 'aiight',\n",
       " 'aiko',\n",
       " 'ails',\n",
       " 'aim',\n",
       " 'aimed',\n",
       " 'aiming',\n",
       " 'aimlessly',\n",
       " 'aims',\n",
       " 'aint',\n",
       " 'aioli',\n",
       " 'aiptasia',\n",
       " 'air',\n",
       " 'airand',\n",
       " 'airbrush',\n",
       " 'airconditioned',\n",
       " 'airconditioning',\n",
       " 'aircooled',\n",
       " 'aircraft',\n",
       " 'aire',\n",
       " 'aired',\n",
       " 'airfair',\n",
       " 'airfare',\n",
       " 'airfried',\n",
       " 'airfryers',\n",
       " 'airless',\n",
       " 'airline',\n",
       " 'airlines',\n",
       " 'airlinesfor',\n",
       " 'airlinesunless',\n",
       " 'airpark',\n",
       " 'airplane',\n",
       " 'airplanequality',\n",
       " 'airplanes',\n",
       " 'airport',\n",
       " 'airports',\n",
       " 'airportso',\n",
       " 'airpot',\n",
       " 'airwarys',\n",
       " 'airways',\n",
       " 'airwaysnever',\n",
       " 'airwaysunited',\n",
       " 'airy',\n",
       " 'aisde',\n",
       " 'aisha',\n",
       " 'aisle',\n",
       " 'aisles',\n",
       " 'aj',\n",
       " 'ajar',\n",
       " 'aji',\n",
       " 'ajillo',\n",
       " 'ajo',\n",
       " 'ajos',\n",
       " 'ajs',\n",
       " 'ajvar',\n",
       " 'aka',\n",
       " 'akaihana',\n",
       " 'aked',\n",
       " 'aki',\n",
       " 'akin',\n",
       " 'akitas',\n",
       " 'aknowledge',\n",
       " 'aknowledging',\n",
       " 'akor',\n",
       " 'akur',\n",
       " 'al',\n",
       " 'ala',\n",
       " 'alabama',\n",
       " 'alacarte',\n",
       " 'aladdins',\n",
       " 'alain',\n",
       " 'alameda',\n",
       " 'alamos',\n",
       " 'alan',\n",
       " 'alarm',\n",
       " 'alarmed',\n",
       " 'alarming',\n",
       " 'alas',\n",
       " 'alasi',\n",
       " 'alasive',\n",
       " 'alaska',\n",
       " 'alaskan',\n",
       " 'alass',\n",
       " 'alastoo',\n",
       " 'alaus',\n",
       " 'albacore',\n",
       " 'albeit',\n",
       " 'alber',\n",
       " 'albert',\n",
       " 'alberto',\n",
       " 'albertos',\n",
       " 'alberts',\n",
       " 'albertsons',\n",
       " 'albiet',\n",
       " 'albino',\n",
       " 'albondiga',\n",
       " 'album',\n",
       " 'albums',\n",
       " 'alcapurrias',\n",
       " 'alcatraz',\n",
       " 'alchemy',\n",
       " 'alchyhol',\n",
       " 'alcohol',\n",
       " 'alcoholand',\n",
       " 'alcoholic',\n",
       " 'alcoholics',\n",
       " 'alcoholvolume',\n",
       " 'alcove',\n",
       " 'aldente',\n",
       " 'aldo',\n",
       " 'ale',\n",
       " 'alec',\n",
       " 'alemmmm',\n",
       " 'alert',\n",
       " 'alerting',\n",
       " 'ales',\n",
       " 'alessandro',\n",
       " 'alessias',\n",
       " 'alewithout',\n",
       " 'alex',\n",
       " 'alexa',\n",
       " 'alexandra',\n",
       " 'alexis',\n",
       " 'alexs',\n",
       " 'alfafa',\n",
       " 'alfalfa',\n",
       " 'alfonso',\n",
       " 'alfred',\n",
       " 'alfredo',\n",
       " 'alfresco',\n",
       " 'algae',\n",
       " 'algoo',\n",
       " 'ali',\n",
       " 'alica',\n",
       " 'alice',\n",
       " 'alicha',\n",
       " 'alicia',\n",
       " 'alien',\n",
       " 'alienate',\n",
       " 'alienated',\n",
       " 'alienation',\n",
       " 'aliens',\n",
       " 'align',\n",
       " 'aligned',\n",
       " 'alike',\n",
       " 'alikethats',\n",
       " 'alison',\n",
       " 'alittle',\n",
       " 'alive',\n",
       " 'alla',\n",
       " 'allage',\n",
       " 'allah',\n",
       " 'allamerican',\n",
       " 'allaround',\n",
       " 'allarrabbiata',\n",
       " 'allayed',\n",
       " 'allbut',\n",
       " 'allday',\n",
       " 'alleged',\n",
       " 'allegiant',\n",
       " 'allen',\n",
       " 'allende',\n",
       " 'allergen',\n",
       " 'allergens',\n",
       " 'allergic',\n",
       " 'allergies',\n",
       " 'allergy',\n",
       " 'allesias',\n",
       " 'alleviated',\n",
       " 'alley',\n",
       " 'alleys',\n",
       " 'alleyway',\n",
       " 'allfrom',\n",
       " 'allhe',\n",
       " 'alli',\n",
       " 'alligator',\n",
       " 'allinall',\n",
       " 'allison',\n",
       " 'allknowing',\n",
       " 'allnall',\n",
       " 'allnatural',\n",
       " 'allnighter',\n",
       " 'allnightlong',\n",
       " 'allno',\n",
       " 'allocating',\n",
       " 'allofit',\n",
       " 'allot',\n",
       " 'alloted',\n",
       " 'allotment',\n",
       " 'allotted',\n",
       " 'allow',\n",
       " 'allowable',\n",
       " 'allowance',\n",
       " 'allowed',\n",
       " 'allowing',\n",
       " 'allows',\n",
       " 'allpredominant',\n",
       " 'allrecipescom',\n",
       " 'allright',\n",
       " 'alls',\n",
       " 'allstar',\n",
       " 'allstars',\n",
       " 'alltel',\n",
       " 'alltime',\n",
       " 'allucan',\n",
       " 'allure',\n",
       " 'alluringmaybe',\n",
       " 'allways',\n",
       " 'allwhite',\n",
       " 'allyoucan',\n",
       " 'allyoucandrink',\n",
       " 'allyoucaneat',\n",
       " 'alma',\n",
       " 'almond',\n",
       " 'almondorange',\n",
       " 'almonds',\n",
       " 'almondsthis',\n",
       " 'almostyearold',\n",
       " 'aloe',\n",
       " 'aloft',\n",
       " 'alofts',\n",
       " 'aloha',\n",
       " 'alones',\n",
       " 'alongside',\n",
       " 'alons',\n",
       " 'aloo',\n",
       " 'aloof',\n",
       " 'alot',\n",
       " 'aloud',\n",
       " 'alp',\n",
       " 'alphabet',\n",
       " 'alphabetical',\n",
       " 'alphagraphics',\n",
       " 'alpine',\n",
       " 'alps',\n",
       " 'alrady',\n",
       " 'alread',\n",
       " 'alreadybut',\n",
       " 'alright',\n",
       " 'alrightwe',\n",
       " 'als',\n",
       " 'alsditch',\n",
       " 'alsomessy',\n",
       " 'alt',\n",
       " 'alter',\n",
       " 'alteration',\n",
       " 'alterations',\n",
       " 'altercation',\n",
       " 'altered',\n",
       " 'altering',\n",
       " 'alternaartsy',\n",
       " 'alternate',\n",
       " 'alternately',\n",
       " 'alternating',\n",
       " 'alternative',\n",
       " 'alternatively',\n",
       " 'alternatives',\n",
       " 'alternator',\n",
       " 'altho',\n",
       " 'althoughits',\n",
       " 'althoughone',\n",
       " 'althoughthe',\n",
       " 'altic',\n",
       " 'alto',\n",
       " 'altogether',\n",
       " 'altos',\n",
       " 'aluminum',\n",
       " 'alums',\n",
       " 'alvadora',\n",
       " 'alwasy',\n",
       " 'alway',\n",
       " 'alwayswe',\n",
       " 'ama',\n",
       " 'amaaaaazing',\n",
       " 'amaaizizznzng',\n",
       " 'amaazing',\n",
       " 'amados',\n",
       " 'amaebi',\n",
       " 'amagain',\n",
       " 'amalfi',\n",
       " 'amanda',\n",
       " 'amare',\n",
       " 'amaretti',\n",
       " 'amarettiomg',\n",
       " 'amaretto',\n",
       " 'amarillo',\n",
       " 'amaro',\n",
       " 'amarone',\n",
       " 'amateur',\n",
       " 'amateurish',\n",
       " 'amateurs',\n",
       " 'amaturish',\n",
       " 'amayyyyzthing',\n",
       " 'amaze',\n",
       " 'amazeballs',\n",
       " 'amazed',\n",
       " 'amazement',\n",
       " 'amazes',\n",
       " 'amazin',\n",
       " 'amazing',\n",
       " 'amazingan',\n",
       " 'amazingand',\n",
       " 'amazingfilled',\n",
       " 'amazinghe',\n",
       " 'amazingi',\n",
       " 'amazinglooking',\n",
       " 'amazingly',\n",
       " 'amazingness',\n",
       " 'amazingtruly',\n",
       " 'amazingwe',\n",
       " 'amazingwho',\n",
       " 'amazon',\n",
       " 'amazoncom',\n",
       " 'ambassador',\n",
       " 'amber',\n",
       " 'ambiance',\n",
       " 'ambiancebut',\n",
       " 'ambiancedecor',\n",
       " 'ambiancenice',\n",
       " 'ambianceservice',\n",
       " 'ambience',\n",
       " 'ambiencecountry',\n",
       " 'ambiencefour',\n",
       " 'ambient',\n",
       " 'ambiguous',\n",
       " 'ambitious',\n",
       " 'ambivalent',\n",
       " 'ambrosia',\n",
       " 'ambulance',\n",
       " 'amc',\n",
       " 'amcs',\n",
       " 'amelia',\n",
       " 'amelie',\n",
       " 'amenable',\n",
       " 'amend',\n",
       " 'amendment',\n",
       " 'amenities',\n",
       " 'amenity',\n",
       " 'america',\n",
       " 'american',\n",
       " 'americana',\n",
       " 'americanchinese',\n",
       " 'americanfrench',\n",
       " 'americanitalian',\n",
       " 'americanized',\n",
       " 'americanizeditalian',\n",
       " 'americano',\n",
       " 'americanos',\n",
       " 'americans',\n",
       " 'americantype',\n",
       " 'americas',\n",
       " 'americhino',\n",
       " 'ameritrash',\n",
       " 'amerizona',\n",
       " 'amex',\n",
       " 'amf',\n",
       " 'ami',\n",
       " 'amiable',\n",
       " 'amicable',\n",
       " 'amicably',\n",
       " 'amid',\n",
       " 'amidst',\n",
       " 'amigo',\n",
       " 'amigos',\n",
       " 'amim',\n",
       " 'amin',\n",
       " 'amino',\n",
       " 'amish',\n",
       " 'amiss',\n",
       " 'ammaccapane',\n",
       " 'ammenities',\n",
       " 'ammo',\n",
       " 'ammonia',\n",
       " 'ammunition',\n",
       " 'amnot',\n",
       " 'amoeba',\n",
       " 'amok',\n",
       " 'amomi',\n",
       " 'amonst',\n",
       " 'amore',\n",
       " 'amountapparently',\n",
       " 'amounted',\n",
       " 'amounts',\n",
       " 'amoxicilon',\n",
       " 'amp',\n",
       " 'amphitheatre',\n",
       " 'ample',\n",
       " 'ampm',\n",
       " 'amra',\n",
       " 'amsterdam',\n",
       " 'amt',\n",
       " 'amtrack',\n",
       " 'amuse',\n",
       " 'amusebouche',\n",
       " 'amused',\n",
       " 'amusement',\n",
       " 'amusing',\n",
       " 'amy',\n",
       " 'amys',\n",
       " 'anaheim',\n",
       " 'anal',\n",
       " 'anallyretentive',\n",
       " 'analog',\n",
       " 'analogous',\n",
       " 'analogue',\n",
       " 'analogy',\n",
       " 'analysis',\n",
       " 'analytical',\n",
       " 'analyze',\n",
       " 'analyzing',\n",
       " 'anandita',\n",
       " 'anatomical',\n",
       " 'anazazi',\n",
       " 'ancestral',\n",
       " 'ancho',\n",
       " 'anchochile',\n",
       " 'anchor',\n",
       " 'anchored',\n",
       " 'anchors',\n",
       " 'anchovies',\n",
       " 'anchoviesinstead',\n",
       " 'anchovy',\n",
       " 'ancient',\n",
       " 'ancillary',\n",
       " 'andencanto',\n",
       " 'anderson',\n",
       " 'andersons',\n",
       " 'andi',\n",
       " 'andiamo',\n",
       " 'andjust',\n",
       " 'andlife',\n",
       " 'andor',\n",
       " 'andouille',\n",
       " 'andre',\n",
       " 'andrea',\n",
       " 'andres',\n",
       " 'andrew',\n",
       " 'andrews',\n",
       " 'android',\n",
       " 'ands',\n",
       " 'andshes',\n",
       " 'andthe',\n",
       " 'andwait',\n",
       " 'andy',\n",
       " 'andyandrew',\n",
       " 'andys',\n",
       " 'anecdotes',\n",
       " 'anejo',\n",
       " 'anemic',\n",
       " 'anesthesiologist',\n",
       " 'anesthetic',\n",
       " 'anew',\n",
       " ...]"
      ]
     },
     "execution_count": 72,
     "metadata": {},
     "output_type": "execute_result"
    }
   ],
   "source": [
    "features.tolist()"
   ]
  },
  {
   "cell_type": "code",
   "execution_count": 73,
   "id": "b8911255",
   "metadata": {},
   "outputs": [],
   "source": [
    "def summarize():\n",
    "    # choose a random review that is at least 300 characters\n",
    "    review_lenght=0\n",
    "    while review_lenght<300:\n",
    "        review_id=np.random.randint(0,len(yelp))\n",
    "        review_text=str(yelp.text[review_id])\n",
    "        review_lenght=len(review_text)\n",
    "        \n",
    "    # create a dictionary of words and their TF-IDF scores\n",
    "    word_scores={}\n",
    "    for word in TextBlob(review_text).words:\n",
    "        word=word.lower()\n",
    "        if word in features:\n",
    "            word_scores[word] =dtm[review_id, features.tolist().index(word)]\n",
    "            \n",
    "    # print words with the top 5 TF-IDF scores                                \n",
    "    print(\"TOP SCORING WORDS:\")\n",
    "    top_scores=sorted(word_scores.items(),key=lambda x : x[1],reverse=True)[:5]\n",
    "    for word , score in top_scores:\n",
    "        print(word)\n",
    "    \n",
    "    # print the review\n",
    "    print(\"\\n\"+review_text)"
   ]
  },
  {
   "cell_type": "code",
   "execution_count": 74,
   "id": "2f94b868",
   "metadata": {},
   "outputs": [
    {
     "name": "stdout",
     "output_type": "stream",
     "text": [
      "TOP SCORING WORDS:\n",
      "chompies\n",
      "soup\n",
      "jewish\n",
      "tell\n",
      "broth\n",
      "\n",
      "let me preface this review i have lived in this area for  years and chompies has been the only option for good jewish deli in my  years i have never received worse service than from chompies they always get the order wrong tonight after much debate i caved for my daughter who has strep throat she wanted nothing else but matzah ball soup to make her feel better so reluctantly i called in for take out at chompies i assumed the one thing on there menu that might be a safe bet and hard to screw up would be the soup i returned home and called my daughter in to tell her i got what the doctor ordered as i watched her pour it in the bowl we noticed it was missing one key ingredient the soup  when i decided to call and tell chompies this has to be the th or  time in a row they have screwed up our order this was more than screwing up a order this was forgetting the soup in soup they told me if i wanted the broth i should have asked for it in a separate container i responded i didnt think i had to ask for broth in soup i will never give them a dime of my money again  i highly recommend to drive the additional  minutes in your car and find somewhere else when looking for jewish comfort food you will be highly disappointed with chompies this is the first time i have ever heard of yelp my son told me to come on here because this is a way to tell other people to avoid restaurants such as these i hope you take my advice\n"
     ]
    }
   ],
   "source": [
    "summarize() #En çok geçen ilk beş kelime                            "
   ]
  }
 ],
 "metadata": {
  "kernelspec": {
   "display_name": "Python 3 (ipykernel)",
   "language": "python",
   "name": "python3"
  },
  "language_info": {
   "codemirror_mode": {
    "name": "ipython",
    "version": 3
   },
   "file_extension": ".py",
   "mimetype": "text/x-python",
   "name": "python",
   "nbconvert_exporter": "python",
   "pygments_lexer": "ipython3",
   "version": "3.9.12"
  },
  "toc": {
   "base_numbering": 1,
   "nav_menu": {},
   "number_sections": true,
   "sideBar": true,
   "skip_h1_title": false,
   "title_cell": "Table of Contents",
   "title_sidebar": "Contents",
   "toc_cell": false,
   "toc_position": {},
   "toc_section_display": true,
   "toc_window_display": false
  },
  "varInspector": {
   "cols": {
    "lenName": 16,
    "lenType": 16,
    "lenVar": 40
   },
   "kernels_config": {
    "python": {
     "delete_cmd_postfix": "",
     "delete_cmd_prefix": "del ",
     "library": "var_list.py",
     "varRefreshCmd": "print(var_dic_list())"
    },
    "r": {
     "delete_cmd_postfix": ") ",
     "delete_cmd_prefix": "rm(",
     "library": "var_list.r",
     "varRefreshCmd": "cat(var_dic_list()) "
    }
   },
   "types_to_exclude": [
    "module",
    "function",
    "builtin_function_or_method",
    "instance",
    "_Feature"
   ],
   "window_display": false
  }
 },
 "nbformat": 4,
 "nbformat_minor": 5
}
